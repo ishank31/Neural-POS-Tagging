{
  "nbformat": 4,
  "nbformat_minor": 0,
  "metadata": {
    "colab": {
      "provenance": []
    },
    "kernelspec": {
      "name": "python3",
      "display_name": "Python 3"
    },
    "language_info": {
      "name": "python"
    }
  },
  "cells": [
    {
      "cell_type": "code",
      "execution_count": null,
      "metadata": {
        "colab": {
          "base_uri": "https://localhost:8080/"
        },
        "id": "tTmGEW8U1_uk",
        "outputId": "2d5aaf1c-8723-4c50-b3c8-11b5151cbac6"
      },
      "outputs": [
        {
          "output_type": "stream",
          "name": "stdout",
          "text": [
            "Collecting conllu\n",
            "  Downloading conllu-4.5.3-py2.py3-none-any.whl (16 kB)\n",
            "Installing collected packages: conllu\n",
            "Successfully installed conllu-4.5.3\n"
          ]
        }
      ],
      "source": [
        "!pip install conllu"
      ]
    },
    {
      "cell_type": "code",
      "source": [
        "!pip install torchtext"
      ],
      "metadata": {
        "colab": {
          "base_uri": "https://localhost:8080/"
        },
        "id": "BmlK7yP72I6t",
        "outputId": "51e5d8a3-d4b2-4efc-b152-a5ad097b32dc"
      },
      "execution_count": null,
      "outputs": [
        {
          "output_type": "stream",
          "name": "stdout",
          "text": [
            "Requirement already satisfied: torchtext in /usr/local/lib/python3.10/dist-packages (0.16.0)\n",
            "Requirement already satisfied: tqdm in /usr/local/lib/python3.10/dist-packages (from torchtext) (4.66.2)\n",
            "Requirement already satisfied: requests in /usr/local/lib/python3.10/dist-packages (from torchtext) (2.31.0)\n",
            "Requirement already satisfied: torch==2.1.0 in /usr/local/lib/python3.10/dist-packages (from torchtext) (2.1.0+cu121)\n",
            "Requirement already satisfied: numpy in /usr/local/lib/python3.10/dist-packages (from torchtext) (1.25.2)\n",
            "Requirement already satisfied: torchdata==0.7.0 in /usr/local/lib/python3.10/dist-packages (from torchtext) (0.7.0)\n",
            "Requirement already satisfied: filelock in /usr/local/lib/python3.10/dist-packages (from torch==2.1.0->torchtext) (3.13.1)\n",
            "Requirement already satisfied: typing-extensions in /usr/local/lib/python3.10/dist-packages (from torch==2.1.0->torchtext) (4.9.0)\n",
            "Requirement already satisfied: sympy in /usr/local/lib/python3.10/dist-packages (from torch==2.1.0->torchtext) (1.12)\n",
            "Requirement already satisfied: networkx in /usr/local/lib/python3.10/dist-packages (from torch==2.1.0->torchtext) (3.2.1)\n",
            "Requirement already satisfied: jinja2 in /usr/local/lib/python3.10/dist-packages (from torch==2.1.0->torchtext) (3.1.3)\n",
            "Requirement already satisfied: fsspec in /usr/local/lib/python3.10/dist-packages (from torch==2.1.0->torchtext) (2023.6.0)\n",
            "Requirement already satisfied: triton==2.1.0 in /usr/local/lib/python3.10/dist-packages (from torch==2.1.0->torchtext) (2.1.0)\n",
            "Requirement already satisfied: urllib3>=1.25 in /usr/local/lib/python3.10/dist-packages (from torchdata==0.7.0->torchtext) (2.0.7)\n",
            "Requirement already satisfied: charset-normalizer<4,>=2 in /usr/local/lib/python3.10/dist-packages (from requests->torchtext) (3.3.2)\n",
            "Requirement already satisfied: idna<4,>=2.5 in /usr/local/lib/python3.10/dist-packages (from requests->torchtext) (3.6)\n",
            "Requirement already satisfied: certifi>=2017.4.17 in /usr/local/lib/python3.10/dist-packages (from requests->torchtext) (2024.2.2)\n",
            "Requirement already satisfied: MarkupSafe>=2.0 in /usr/local/lib/python3.10/dist-packages (from jinja2->torch==2.1.0->torchtext) (2.1.5)\n",
            "Requirement already satisfied: mpmath>=0.19 in /usr/local/lib/python3.10/dist-packages (from sympy->torch==2.1.0->torchtext) (1.3.0)\n"
          ]
        }
      ]
    },
    {
      "cell_type": "code",
      "source": [
        "import torch\n",
        "import torch.nn as nn\n",
        "import torch.nn.functional as F\n",
        "import torch.optim as optim\n",
        "import numpy as np\n",
        "import seaborn as sns\n",
        "import matplotlib.pyplot as plt\n",
        "from conllu import parse_incr\n",
        "import nltk\n",
        "nltk.download('punkt')\n",
        "from nltk.tokenize import sent_tokenize, word_tokenize\n",
        "import gensim.downloader\n",
        "from torch.utils.data import Dataset\n",
        "from torchtext.vocab import build_vocab_from_iterator, Vocab\n",
        "from torch.nn.utils.rnn import pad_sequence\n",
        "from collections import Counter\n",
        "from torch.utils.data import DataLoader\n",
        "from sklearn.metrics import classification_report, accuracy_score, confusion_matrix, precision_score, recall_score, f1_score\n",
        "import matplotlib.pyplot as plt\n",
        "plt.style.use('ggplot')"
      ],
      "metadata": {
        "colab": {
          "base_uri": "https://localhost:8080/"
        },
        "id": "UhD99IZR2KM5",
        "outputId": "2d060ea3-8a9e-45fa-aab8-25b39b5f1630"
      },
      "execution_count": null,
      "outputs": [
        {
          "output_type": "stream",
          "name": "stderr",
          "text": [
            "[nltk_data] Downloading package punkt to /root/nltk_data...\n",
            "[nltk_data]   Unzipping tokenizers/punkt.zip.\n"
          ]
        }
      ]
    },
    {
      "cell_type": "code",
      "source": [
        "torch.manual_seed(42)"
      ],
      "metadata": {
        "colab": {
          "base_uri": "https://localhost:8080/"
        },
        "id": "XcJVPgDvr30h",
        "outputId": "b176225f-4ec9-4206-a399-ea835faa48af"
      },
      "execution_count": null,
      "outputs": [
        {
          "output_type": "execute_result",
          "data": {
            "text/plain": [
              "<torch._C.Generator at 0x7f122a776a50>"
            ]
          },
          "metadata": {},
          "execution_count": 4
        }
      ]
    },
    {
      "cell_type": "code",
      "source": [
        "tag_map = {'VERB': 0,\n",
        " 'ADJ': 1,\n",
        " 'DET': 2,\n",
        " 'ADP': 3,\n",
        " 'PRON': 4,\n",
        " 'CCONJ': 5,\n",
        " 'NUM': 6,\n",
        " 'INTJ': 7,\n",
        " 'ADV': 8,\n",
        " 'AUX': 9,\n",
        " 'PROPN': 10,\n",
        " 'NOUN': 11,\n",
        " 'PART': 12}"
      ],
      "metadata": {
        "id": "KDPsTgCV2MIM"
      },
      "execution_count": null,
      "outputs": []
    },
    {
      "cell_type": "code",
      "source": [
        "def get_data(path):\n",
        "  data = []\n",
        "  data_file = open(path, \"r\", encoding=\"utf-8\")\n",
        "  for sentence in parse_incr(data_file):\n",
        "      sent = sentence.metadata\n",
        "      tok_sent = sent_tokenize(sent['text'])\n",
        "      words = []\n",
        "      tags = []\n",
        "      for token in sentence:\n",
        "          # print(f\"Word: {token['form']}, POS Tag: {token['upostag']}\")\n",
        "          if token['upostag'] != 'SYM':\n",
        "            words.append(token['form'])\n",
        "            tags.append(tag_map[token['upostag']])\n",
        "      data.append((words, tags))\n",
        "  return data"
      ],
      "metadata": {
        "id": "OfnnWR8B2Qrm"
      },
      "execution_count": null,
      "outputs": []
    },
    {
      "cell_type": "code",
      "source": [
        "train_data = get_data(\"/content/drive/MyDrive/INLP/Assignment - 2/en_atis-ud-train.conllu\")\n",
        "val_data = get_data(\"/content/drive/MyDrive/INLP/Assignment - 2/en_atis-ud-dev.conllu\")\n",
        "test_data = get_data(\"/content/drive/MyDrive/INLP/Assignment - 2/en_atis-ud-test.conllu\")"
      ],
      "metadata": {
        "id": "EBg2T9lW2S4r"
      },
      "execution_count": null,
      "outputs": []
    },
    {
      "cell_type": "code",
      "source": [
        "def get_sent_tags(data):\n",
        "  sentences = []\n",
        "  tags = []\n",
        "  for d in data:\n",
        "    sentences.append(d[0])\n",
        "    tags.append(d[1])\n",
        "  return sentences, tags"
      ],
      "metadata": {
        "id": "tDVK9qO-2Ui-"
      },
      "execution_count": null,
      "outputs": []
    },
    {
      "cell_type": "code",
      "source": [
        "train_sent, train_tags = get_sent_tags(train_data)\n",
        "val_sent, val_tags = get_sent_tags(val_data)\n",
        "test_sent, test_tags = get_sent_tags(test_data)"
      ],
      "metadata": {
        "id": "XPBTFap92cSs"
      },
      "execution_count": null,
      "outputs": []
    },
    {
      "cell_type": "code",
      "source": [
        "START_TOKEN = \"<s>\"\n",
        "END_TOKEN = \"</s>\"\n",
        "UNKNOWN_TOKEN = \"<unk>\"\n",
        "PAD_TOKEN = \"<pad>\""
      ],
      "metadata": {
        "id": "soWjGQuI2qV-"
      },
      "execution_count": null,
      "outputs": []
    },
    {
      "cell_type": "code",
      "source": [
        "class POSTagDataset(Dataset):\n",
        "    def __init__(self, data: list[tuple[list[str], int]], num_classes, vocabulary:Vocab|None=None):\n",
        "        self.sentences = [i[0] for i in data] # list of sentences\n",
        "        self.labels = [i[1] for i in data]\n",
        "\n",
        "        # Replace words which occur less than 5 times with <UNK>\n",
        "        all_words = [word for sentence in self.sentences for word in sentence]\n",
        "\n",
        "        word_counts = Counter(all_words)\n",
        "        frequency_threshold = 5\n",
        "\n",
        "        infrequent_words = {word for word, count in word_counts.items() if count < frequency_threshold}\n",
        "        sentences_with_unk = [[\"<unk>\" if word in infrequent_words else word for word in sentence]for sentence in self.sentences]\n",
        "\n",
        "        self.sentences = sentences_with_unk\n",
        "        # print(\"length of sentences: \", len(self.sentences))\n",
        "        # print(\"length of labels: \", len(self.labels))\n",
        "        # print(\"length of embeddings: \", len(self.embeddings))\n",
        "\n",
        "        if vocabulary is None:\n",
        "            self.vocabulary = build_vocab_from_iterator(self.sentences, specials=[START_TOKEN, END_TOKEN, UNKNOWN_TOKEN, PAD_TOKEN]) # use min_freq for handling unkown words better\n",
        "            self.vocabulary.set_default_index(self.vocabulary[UNKNOWN_TOKEN])\n",
        "        else:\n",
        "            self.vocabulary = vocabulary\n",
        "\n",
        "        print(\"pad token:\", self.vocabulary[PAD_TOKEN])\n",
        "\n",
        "    def __len__(self) -> int:\n",
        "        return len(self.sentences)\n",
        "\n",
        "    def __getlabels__(self) -> list[int]:\n",
        "        return self.labels\n",
        "\n",
        "    def __getembeddings__(self) -> list[list[float]]:\n",
        "        return self.embeddings\n",
        "\n",
        "    def __getitem__(self, index: int) -> tuple[torch.Tensor, torch.Tensor]:\n",
        "        \"\"\"Get the datapoint at `index`.\"\"\"\n",
        "        # return torch.tensor(self.vocabulary.lookup_indices(self.sentences[index])), torch.tensor(self.labels[index])\n",
        "        return torch.tensor(self.vocabulary.lookup_indices(self.sentences[index])), torch.tensor(self.labels[index])\n",
        "\n",
        "    def collate(self, batch: list[tuple[torch.Tensor, torch.Tensor]]) -> tuple[torch.Tensor, torch.Tensor]:\n",
        "      \"\"\"Given a list of datapoints, batch them together\"\"\"\n",
        "      sentences = [i[0] for i in batch]\n",
        "      labels = [i[1] for i in batch]\n",
        "      padded_sentences = pad_sequence(sentences, batch_first=True, padding_value=self.vocabulary[PAD_TOKEN]) # pad sentences with pad token id\n",
        "      padded_labels = pad_sequence(labels, batch_first=True, padding_value=torch.tensor(77)) # pad labels with 0 because pad token cannot be entities\n",
        "\n",
        "      return padded_sentences, padded_labels\n"
      ],
      "metadata": {
        "id": "h-CZwYnO2svD"
      },
      "execution_count": null,
      "outputs": []
    },
    {
      "cell_type": "code",
      "source": [
        "train_dataset = POSTagDataset(train_data,len(tag_map))\n",
        "val_dataset = POSTagDataset(val_data,len(tag_map), vocabulary=train_dataset.vocabulary)\n",
        "test_dataset = POSTagDataset(test_data,len(tag_map), vocabulary=train_dataset.vocabulary)"
      ],
      "metadata": {
        "colab": {
          "base_uri": "https://localhost:8080/"
        },
        "id": "yQcs-jT86fA6",
        "outputId": "083452c1-2a09-4e67-9536-ce29b8579074"
      },
      "execution_count": null,
      "outputs": [
        {
          "output_type": "stream",
          "name": "stdout",
          "text": [
            "pad token: 3\n",
            "pad token: 3\n",
            "pad token: 3\n"
          ]
        }
      ]
    },
    {
      "cell_type": "code",
      "source": [
        "print(\"length of train vocabulary: \", len(train_dataset.vocabulary))\n",
        "print(\"length of val vocabulary: \", len(val_dataset.vocabulary))\n",
        "print(\"length of test vocabulary: \", len(test_dataset.vocabulary))"
      ],
      "metadata": {
        "colab": {
          "base_uri": "https://localhost:8080/"
        },
        "id": "Cvw6-cxFF2_i",
        "outputId": "a12966ed-2626-46b7-fa2f-c15b663fa547"
      },
      "execution_count": null,
      "outputs": [
        {
          "output_type": "stream",
          "name": "stdout",
          "text": [
            "length of train vocabulary:  414\n",
            "length of val vocabulary:  414\n",
            "length of test vocabulary:  414\n"
          ]
        }
      ]
    },
    {
      "cell_type": "code",
      "source": [
        "import pickle\n",
        "\n",
        "def save_vocab(vocab, filename):\n",
        "    with open(filename, 'wb') as file:\n",
        "        pickle.dump(vocab, file)"
      ],
      "metadata": {
        "id": "HlLdBf7w_a_C"
      },
      "execution_count": null,
      "outputs": []
    },
    {
      "cell_type": "code",
      "source": [
        "vocab = train_dataset.vocabulary.get_stoi()\n",
        "vocab"
      ],
      "metadata": {
        "colab": {
          "base_uri": "https://localhost:8080/"
        },
        "id": "0f-_YwsbLX8i",
        "outputId": "a7974f6f-37a7-49e2-c39c-d577d8e3971b"
      },
      "execution_count": null,
      "outputs": [
        {
          "output_type": "execute_result",
          "data": {
            "text/plain": [
              "{'trips': 412,\n",
              " 'thrift': 411,\n",
              " 'these': 410,\n",
              " 'taxi': 409,\n",
              " 'minnesota': 405,\n",
              " 'lufthansa': 404,\n",
              " 'logan': 403,\n",
              " 'let': 402,\n",
              " 'indiana': 401,\n",
              " 'hp': 400,\n",
              " 'fourteenth': 399,\n",
              " 'february': 398,\n",
              " 'codes': 395,\n",
              " 'anywhere': 393,\n",
              " '466': 390,\n",
              " \"'ll\": 389,\n",
              " 'tower': 387,\n",
              " 'ohio': 382,\n",
              " 'lunch': 379,\n",
              " 'january': 377,\n",
              " 'dfw': 374,\n",
              " 'both': 373,\n",
              " 'y': 368,\n",
              " 'when': 367,\n",
              " 'transport': 366,\n",
              " 'q': 362,\n",
              " 'nineteenth': 360,\n",
              " 'midnight': 359,\n",
              " 'm80': 358,\n",
              " 'hours': 357,\n",
              " 'eleventh': 356,\n",
              " 'departure': 355,\n",
              " 'area': 354,\n",
              " 'rent': 364,\n",
              " \"'re\": 352,\n",
              " 'yes': 351,\n",
              " 'where': 350,\n",
              " 'traveling': 349,\n",
              " 'thirty': 348,\n",
              " 'shortest': 345,\n",
              " 'north': 342,\n",
              " 'layover': 339,\n",
              " 'hi': 338,\n",
              " 'explain': 337,\n",
              " 'but': 334,\n",
              " '1': 332,\n",
              " 'tickets': 330,\n",
              " 'arrangements': 333,\n",
              " 'jfk': 327,\n",
              " 'far': 324,\n",
              " 'f': 323,\n",
              " 'again': 322,\n",
              " 'should': 320,\n",
              " 'listing': 317,\n",
              " 'either': 316,\n",
              " 'over': 383,\n",
              " 'classes': 314,\n",
              " 'ap': 313,\n",
              " 'live': 378,\n",
              " 'twelfth': 312,\n",
              " 'restriction': 310,\n",
              " 'midwest': 309,\n",
              " 'express': 308,\n",
              " 'rental': 304,\n",
              " 'dl': 302,\n",
              " 'bwi': 301,\n",
              " 'also': 300,\n",
              " 'colorado': 336,\n",
              " 'week': 299,\n",
              " 'thirtieth': 296,\n",
              " 'stand': 295,\n",
              " 'types': 288,\n",
              " 'twentieth': 287,\n",
              " 'stopovers': 346,\n",
              " 'today': 286,\n",
              " 'other': 284,\n",
              " 'limousine': 282,\n",
              " 'display': 280,\n",
              " 'this': 276,\n",
              " 'tenth': 275,\n",
              " 'plane': 274,\n",
              " 'business': 271,\n",
              " 'ua': 278,\n",
              " 'using': 269,\n",
              " 'prices': 268,\n",
              " 'most': 283,\n",
              " 'has': 267,\n",
              " 'back': 266,\n",
              " '3': 264,\n",
              " 'price': 263,\n",
              " 'out': 261,\n",
              " 'cities': 260,\n",
              " 'sixth': 258,\n",
              " 'seventeenth': 319,\n",
              " 'next': 122,\n",
              " 'washington': 33,\n",
              " 'air': 120,\n",
              " 'any': 117,\n",
              " 'kansas': 116,\n",
              " 'via': 306,\n",
              " 'diego': 108,\n",
              " 'trip': 51,\n",
              " 'goes': 272,\n",
              " '1000': 270,\n",
              " 'noon': 107,\n",
              " 'county': 225,\n",
              " 'am': 101,\n",
              " 'saturday': 99,\n",
              " 'you': 54,\n",
              " 'can': 98,\n",
              " 'have': 70,\n",
              " 'sunday': 100,\n",
              " 'continental': 118,\n",
              " 'memphis': 126,\n",
              " 'like': 29,\n",
              " 'offer': 361,\n",
              " 'after': 48,\n",
              " 'vegas': 93,\n",
              " 'phoenix': 92,\n",
              " 'that': 32,\n",
              " 'friday': 123,\n",
              " '8': 168,\n",
              " 'fifth': 236,\n",
              " 'chicago': 89,\n",
              " 'delta': 104,\n",
              " 'going': 159,\n",
              " 'take': 233,\n",
              " 'earliest': 88,\n",
              " 'aircraft': 135,\n",
              " 'serve': 226,\n",
              " 'nonstop': 86,\n",
              " 'same': 311,\n",
              " 'fares': 74,\n",
              " 'want': 84,\n",
              " 'westchester': 220,\n",
              " 'monday': 82,\n",
              " 'milwaukee': 68,\n",
              " 'how': 81,\n",
              " 'people': 344,\n",
              " 'us': 119,\n",
              " 'times': 277,\n",
              " 'find': 91,\n",
              " 'airplane': 392,\n",
              " 'thursday': 79,\n",
              " 'the': 7,\n",
              " 'would': 40,\n",
              " 'american': 73,\n",
              " 'now': 223,\n",
              " 'an': 154,\n",
              " 'st.': 65,\n",
              " '7': 170,\n",
              " 'available': 64,\n",
              " 'night': 204,\n",
              " '57': 370,\n",
              " 'with': 63,\n",
              " 'need': 44,\n",
              " 'if': 376,\n",
              " 'by': 167,\n",
              " 'houston': 115,\n",
              " 'number': 273,\n",
              " 'before': 60,\n",
              " 'airports': 211,\n",
              " 'indianapolis': 109,\n",
              " 'carolina': 335,\n",
              " 'baltimore': 27,\n",
              " 'no': 406,\n",
              " 'at': 71,\n",
              " \"'d\": 59,\n",
              " '11': 369,\n",
              " 'book': 199,\n",
              " 'pittsburgh': 24,\n",
              " 'new': 69,\n",
              " 'stop': 137,\n",
              " 'all': 25,\n",
              " 'airfare': 265,\n",
              " 'dallas': 23,\n",
              " 'service': 177,\n",
              " 'utah': 413,\n",
              " 'days': 396,\n",
              " 'toronto': 103,\n",
              " 'charlotte': 113,\n",
              " 'denver': 17,\n",
              " 'seventh': 124,\n",
              " 'my': 341,\n",
              " 'list': 26,\n",
              " 'atlanta': 21,\n",
              " 'serves': 231,\n",
              " 'florida': 325,\n",
              " 'united': 90,\n",
              " 'mornings': 381,\n",
              " 'pm': 39,\n",
              " 'boston': 15,\n",
              " 'meal': 208,\n",
              " 'meals': 256,\n",
              " 'airlines': 31,\n",
              " 'evening': 105,\n",
              " 'one': 66,\n",
              " 'does': 62,\n",
              " 'much': 176,\n",
              " 'abbreviation': 353,\n",
              " 'smallest': 329,\n",
              " 'leave': 78,\n",
              " 'day': 221,\n",
              " 'a': 16,\n",
              " 'is': 22,\n",
              " 'oakland': 50,\n",
              " 'dc': 75,\n",
              " 'mco': 380,\n",
              " 'arriving': 53,\n",
              " 'use': 321,\n",
              " 'i': 12,\n",
              " 'through': 285,\n",
              " '</s>': 1,\n",
              " 'salt': 112,\n",
              " \"o'clock\": 134,\n",
              " 'beach': 194,\n",
              " 'right': 384,\n",
              " 'eighth': 228,\n",
              " 'and': 20,\n",
              " 'thank': 386,\n",
              " 'ground': 52,\n",
              " 'what': 9,\n",
              " 'on': 8,\n",
              " 'ninth': 257,\n",
              " 'round': 57,\n",
              " 'planes': 407,\n",
              " 'fourth': 292,\n",
              " 'coach': 191,\n",
              " 'flight': 10,\n",
              " 'some': 385,\n",
              " 'las': 94,\n",
              " 'orlando': 95,\n",
              " 'york': 76,\n",
              " 'leaving': 38,\n",
              " 'under': 388,\n",
              " '<pad>': 3,\n",
              " '1991': 290,\n",
              " 'schedule': 237,\n",
              " 'cheapest': 55,\n",
              " 'city': 42,\n",
              " 'of': 34,\n",
              " 'wednesdays': 298,\n",
              " 'miami': 96,\n",
              " 'are': 30,\n",
              " 'between': 35,\n",
              " 'please': 36,\n",
              " 'morning': 37,\n",
              " 'airport': 80,\n",
              " 'class': 61,\n",
              " '<s>': 0,\n",
              " 'may': 172,\n",
              " 'which': 56,\n",
              " 'flights': 6,\n",
              " 'twa': 184,\n",
              " 'in': 18,\n",
              " 'tampa': 148,\n",
              " 'distance': 315,\n",
              " 'from': 5,\n",
              " 'fly': 41,\n",
              " '9': 210,\n",
              " 'way': 72,\n",
              " 'for': 43,\n",
              " \"'m\": 188,\n",
              " 'third': 259,\n",
              " '<unk>': 2,\n",
              " 'la': 207,\n",
              " 'there': 49,\n",
              " 'fare': 45,\n",
              " 'two': 297,\n",
              " 'san': 14,\n",
              " \"'s\": 114,\n",
              " 'do': 125,\n",
              " 'wednesday': 46,\n",
              " 'sixteenth': 328,\n",
              " 'september': 224,\n",
              " 'mean': 181,\n",
              " 'as': 227,\n",
              " 'twenty': 102,\n",
              " 'early': 136,\n",
              " 'cleveland': 128,\n",
              " 'to': 4,\n",
              " 'kind': 232,\n",
              " 'october': 343,\n",
              " 'then': 305,\n",
              " 'lake': 111,\n",
              " 'airline': 127,\n",
              " 'afternoon': 67,\n",
              " 'less': 222,\n",
              " 'angeles': 129,\n",
              " 'go': 97,\n",
              " 'fort': 130,\n",
              " 'returning': 365,\n",
              " 'possible': 262,\n",
              " 'philadelphia': 28,\n",
              " 'los': 131,\n",
              " 'jersey': 326,\n",
              " 'code': 166,\n",
              " 'during': 397,\n",
              " 'eastern': 255,\n",
              " 'worth': 132,\n",
              " 'only': 294,\n",
              " 'august': 121,\n",
              " 'july': 133,\n",
              " 'interested': 303,\n",
              " 'california': 186,\n",
              " 'mitchell': 251,\n",
              " 'downtown': 138,\n",
              " 'lowest': 197,\n",
              " 'makes': 340,\n",
              " 'give': 77,\n",
              " 'francisco': 19,\n",
              " '5': 139,\n",
              " 'tell': 140,\n",
              " 'montreal': 141,\n",
              " 'into': 213,\n",
              " '6': 142,\n",
              " 'alaska': 371,\n",
              " 'stopover': 157,\n",
              " 'or': 144,\n",
              " 'numbers': 318,\n",
              " 'cincinnati': 146,\n",
              " 'petersburg': 147,\n",
              " 'transportation': 58,\n",
              " 'get': 149,\n",
              " 'minneapolis': 150,\n",
              " 'car': 248,\n",
              " 'breakfast': 247,\n",
              " 'tuesday': 83,\n",
              " 'tomorrow': 151,\n",
              " 'detroit': 152,\n",
              " 'many': 153,\n",
              " 'serving': 408,\n",
              " 'arizona': 372,\n",
              " 'nashville': 156,\n",
              " 'april': 185,\n",
              " 'newark': 106,\n",
              " 'latest': 155,\n",
              " 'around': 158,\n",
              " 'cost': 161,\n",
              " '10': 162,\n",
              " 'will': 279,\n",
              " 'about': 163,\n",
              " 'jose': 164,\n",
              " 'late': 281,\n",
              " 'me': 11,\n",
              " 'could': 169,\n",
              " 'burbank': 174,\n",
              " 'type': 173,\n",
              " 'long': 175,\n",
              " 'information': 87,\n",
              " 'leaves': 171,\n",
              " 'ticket': 178,\n",
              " '12': 179,\n",
              " 'arrive': 85,\n",
              " 'expensive': 180,\n",
              " 'paul': 182,\n",
              " 'their': 347,\n",
              " 'show': 13,\n",
              " 'june': 143,\n",
              " 'travel': 183,\n",
              " 'louis': 145,\n",
              " 'daily': 187,\n",
              " 'international': 190,\n",
              " 'columbus': 192,\n",
              " '4': 193,\n",
              " 'see': 195,\n",
              " 'used': 209,\n",
              " 'dollars': 196,\n",
              " '838': 391,\n",
              " 'economy': 200,\n",
              " 'served': 252,\n",
              " 'time': 201,\n",
              " 'know': 202,\n",
              " 'least': 203,\n",
              " 'weekday': 331,\n",
              " 'okay': 205,\n",
              " 'than': 206,\n",
              " 'december': 212,\n",
              " 'fifteenth': 291,\n",
              " 'dinner': 240,\n",
              " 'last': 214,\n",
              " 'return': 215,\n",
              " 'canadian': 307,\n",
              " '2': 254,\n",
              " 'arrives': 216,\n",
              " 'each': 375,\n",
              " 'northwest': 198,\n",
              " 'november': 217,\n",
              " 'field': 241,\n",
              " 'ontario': 218,\n",
              " 'flying': 219,\n",
              " 'departing': 160,\n",
              " 'it': 229,\n",
              " 'guardia': 293,\n",
              " 'seating': 246,\n",
              " 'first': 47,\n",
              " 'second': 230,\n",
              " 'capacity': 234,\n",
              " 'direct': 235,\n",
              " 'stopping': 238,\n",
              " 'seattle': 110,\n",
              " 'be': 239,\n",
              " 'tacoma': 165,\n",
              " 'flies': 242,\n",
              " 'looking': 243,\n",
              " 'depart': 189,\n",
              " 'general': 250,\n",
              " 'canada': 394,\n",
              " 'stops': 253,\n",
              " 'love': 244,\n",
              " 'qx': 363,\n",
              " 'make': 245,\n",
              " 'your': 289,\n",
              " 'connecting': 249}"
            ]
          },
          "metadata": {},
          "execution_count": 15
        }
      ]
    },
    {
      "cell_type": "code",
      "source": [
        "import os\n",
        "os.chdir(\"/content/drive/MyDrive/INLP/Assignment - 2\")\n",
        "os.getcwd()"
      ],
      "metadata": {
        "colab": {
          "base_uri": "https://localhost:8080/",
          "height": 36
        },
        "id": "nL4-4qCTAWy1",
        "outputId": "9ffa6126-98fb-4c0d-926d-fc6b2d1f42c1"
      },
      "execution_count": null,
      "outputs": [
        {
          "output_type": "execute_result",
          "data": {
            "text/plain": [
              "'/content/drive/MyDrive/INLP/Assignment - 2'"
            ],
            "application/vnd.google.colaboratory.intrinsic+json": {
              "type": "string"
            }
          },
          "metadata": {},
          "execution_count": 16
        }
      ]
    },
    {
      "cell_type": "code",
      "source": [
        "# save_vocab(vocab, \"lstm_model1_vocab.pkl\")"
      ],
      "metadata": {
        "id": "c1X9B48ZAX4n"
      },
      "execution_count": null,
      "outputs": []
    },
    {
      "cell_type": "code",
      "source": [
        "vocab[PAD_TOKEN]"
      ],
      "metadata": {
        "colab": {
          "base_uri": "https://localhost:8080/"
        },
        "id": "f7wZWXa7wn_P",
        "outputId": "8715babb-814c-4c28-ffb9-4b122663888a"
      },
      "execution_count": null,
      "outputs": [
        {
          "output_type": "execute_result",
          "data": {
            "text/plain": [
              "3"
            ]
          },
          "metadata": {},
          "execution_count": 18
        }
      ]
    },
    {
      "cell_type": "code",
      "source": [
        "vocab_size = len(train_dataset.vocabulary)"
      ],
      "metadata": {
        "id": "29v_H0nBJdQh"
      },
      "execution_count": null,
      "outputs": []
    },
    {
      "cell_type": "code",
      "source": [
        "vocab_size, len(train_dataset.vocabulary.get_stoi())"
      ],
      "metadata": {
        "colab": {
          "base_uri": "https://localhost:8080/"
        },
        "id": "w6WxGNROLsSE",
        "outputId": "429555f8-3e36-40f6-be44-77af568a471f"
      },
      "execution_count": null,
      "outputs": [
        {
          "output_type": "execute_result",
          "data": {
            "text/plain": [
              "(414, 414)"
            ]
          },
          "metadata": {},
          "execution_count": 20
        }
      ]
    },
    {
      "cell_type": "code",
      "source": [
        "train_loader = DataLoader(train_dataset, batch_size=16, shuffle=True, collate_fn = train_dataset.collate)\n",
        "val_loader = DataLoader(val_dataset, batch_size=16, shuffle=False, collate_fn = val_dataset.collate)\n",
        "test_loader = DataLoader(test_dataset, batch_size=16, shuffle=False, collate_fn = test_dataset.collate)"
      ],
      "metadata": {
        "id": "VeKW4IWm-JTV"
      },
      "execution_count": null,
      "outputs": []
    },
    {
      "cell_type": "code",
      "source": [
        "device = torch.device('cuda' if torch.cuda.is_available() else 'cpu')"
      ],
      "metadata": {
        "id": "hUmtxC0CE17A"
      },
      "execution_count": null,
      "outputs": []
    },
    {
      "cell_type": "code",
      "source": [
        "class BiLSTMPOSTagger(nn.Module):\n",
        "    def __init__(self, input_size, embedding_dim, hidden_dim, output_dim):\n",
        "        super(BiLSTMPOSTagger, self).__init__()\n",
        "        self.embed = nn.Embedding(input_size, embedding_dim)\n",
        "        self.lstm = nn.LSTM(embedding_dim, hidden_dim, batch_first=True, bidirectional=True)\n",
        "        self.fc = nn.Linear(2 *  hidden_dim, output_dim)\n",
        "\n",
        "    def forward(self, input: torch.Tensor):\n",
        "        embeddings = self.embed(input)\n",
        "        output, _ = self.lstm(embeddings)\n",
        "        output = self.fc(output)\n",
        "\n",
        "        return output"
      ],
      "metadata": {
        "id": "DIc-4y-JE5OX"
      },
      "execution_count": null,
      "outputs": []
    },
    {
      "cell_type": "code",
      "source": [
        "INPUT_DIM = vocab_size\n",
        "EMBEDDING_DIM = 200\n",
        "HIDDEN_DIM = 256\n",
        "output_dim = len(tag_map)\n",
        "print(output_dim)\n",
        "model = BiLSTMPOSTagger(INPUT_DIM, EMBEDDING_DIM, HIDDEN_DIM, output_dim)"
      ],
      "metadata": {
        "colab": {
          "base_uri": "https://localhost:8080/"
        },
        "id": "r6qmmnGGJZug",
        "outputId": "9afbb4fe-5533-4d86-e211-d0ab63185544"
      },
      "execution_count": null,
      "outputs": [
        {
          "output_type": "stream",
          "name": "stdout",
          "text": [
            "13\n"
          ]
        }
      ]
    },
    {
      "cell_type": "code",
      "source": [
        "loss_function = nn.CrossEntropyLoss(ignore_index=77)\n",
        "optimizer = optim.Adam(model.parameters(), lr=1e-3)"
      ],
      "metadata": {
        "id": "Htmm5cT3JYgW"
      },
      "execution_count": null,
      "outputs": []
    },
    {
      "cell_type": "code",
      "source": [
        "from tqdm import tqdm"
      ],
      "metadata": {
        "id": "ZJTuQK6HMEJi"
      },
      "execution_count": null,
      "outputs": []
    },
    {
      "cell_type": "code",
      "source": [
        "def get_labels_preds(predictions, labels, pad_index = 77):\n",
        "    # Exclude padded tokens from both predictions and labels\n",
        "    non_pad_mask = labels != pad_index\n",
        "    predictions = predictions[non_pad_mask]\n",
        "    labels = labels[non_pad_mask]\n",
        "\n",
        "    return predictions, labels\n",
        "    # Calculate accuracy\n",
        "    correct_predictions = (predictions == labels).sum().item()\n",
        "    total_predictions = len(labels)\n",
        "\n",
        "    accuracy = correct_predictions / total_predictions\n",
        "    return accuracy\n",
        "\n",
        "a = [1,2,3,77,77,77]\n",
        "b = [3,2,3,6,6,6]\n",
        "p, l = get_labels_preds(b,a)\n",
        "print(\"l: \", l)\n",
        "print(\"p: \", p)"
      ],
      "metadata": {
        "colab": {
          "base_uri": "https://localhost:8080/"
        },
        "id": "h03CRVvlEW4N",
        "outputId": "58c1b036-d00f-4a5f-f64b-0c28932329f7"
      },
      "execution_count": null,
      "outputs": [
        {
          "output_type": "stream",
          "name": "stdout",
          "text": [
            "l:  2\n",
            "p:  2\n"
          ]
        }
      ]
    },
    {
      "cell_type": "code",
      "source": [
        "idx = a.index(77)\n",
        "a[:idx], b[:idx]"
      ],
      "metadata": {
        "colab": {
          "base_uri": "https://localhost:8080/"
        },
        "id": "oSvPLgEWzz2E",
        "outputId": "bdfefae6-cb2c-4f56-f227-0484bc81b12f"
      },
      "execution_count": null,
      "outputs": [
        {
          "output_type": "execute_result",
          "data": {
            "text/plain": [
              "([1, 2, 3], [3, 2, 3])"
            ]
          },
          "metadata": {},
          "execution_count": 28
        }
      ]
    },
    {
      "cell_type": "code",
      "source": [
        "accuracy_score(a[:idx], b[:idx])"
      ],
      "metadata": {
        "colab": {
          "base_uri": "https://localhost:8080/"
        },
        "id": "N-jjopSlz2Kb",
        "outputId": "df97422e-ca0f-4202-c71a-61493c54e80b"
      },
      "execution_count": null,
      "outputs": [
        {
          "output_type": "execute_result",
          "data": {
            "text/plain": [
              "0.6666666666666666"
            ]
          },
          "metadata": {},
          "execution_count": 29
        }
      ]
    },
    {
      "cell_type": "code",
      "source": [
        "def calculate_accuracy(predictions_list, labels_list, pad_index=77):\n",
        "    total_correct = 0\n",
        "    total_non_pad = 0\n",
        "\n",
        "    for predictions, labels in zip(predictions_list, labels_list):\n",
        "        # Convert each inner list to a PyTorch tensor\n",
        "        predictions = torch.tensor(predictions)\n",
        "        labels = torch.tensor(labels)\n",
        "\n",
        "        # Exclude padded tokens from both predictions and labels\n",
        "        non_pad_mask = labels != pad_index\n",
        "        predictions = predictions[non_pad_mask]\n",
        "        labels = labels[non_pad_mask]\n",
        "\n",
        "        # Update total counts\n",
        "        total_correct += (predictions == labels).sum().item()\n",
        "        total_non_pad += len(labels)\n",
        "\n",
        "    # Calculate accuracy\n",
        "    accuracy = total_correct / total_non_pad if total_non_pad > 0 else 0\n",
        "    return accuracy"
      ],
      "metadata": {
        "id": "Im31FLV3Ewy_"
      },
      "execution_count": null,
      "outputs": []
    },
    {
      "cell_type": "code",
      "source": [
        "# def calculate_classification_metrics(predictions_list, labels_list, pad_index=77):\n",
        "#     all_predictions = []\n",
        "#     all_labels = []\n",
        "\n",
        "#     for predictions, labels in zip(predictions_list, labels_list):\n",
        "#         # Convert each inner list to a NumPy array\n",
        "#         predictions = np.array(predictions)\n",
        "#         labels = np.array(labels)\n",
        "\n",
        "#         # Exclude padded tokens from both predictions and labels\n",
        "#         non_pad_mask = labels != pad_index\n",
        "#         predictions = predictions[non_pad_mask]\n",
        "#         labels = labels[non_pad_mask]\n",
        "\n",
        "#         # Collect all predictions and labels\n",
        "#         all_predictions.extend(predictions)\n",
        "#         all_labels.extend(labels)\n",
        "\n",
        "#     # Convert to NumPy arrays\n",
        "#     all_predictions = np.array(all_predictions)\n",
        "#     all_labels = np.array(all_labels)\n",
        "#     print(type(all_predictions))\n",
        "#     print(type(all_labels))\n",
        "#     # return all_predictions, all_labels\n",
        "#     # Calculate precision, recall, and F1 score\n",
        "#     precision_micro = precision_score(all_labels, all_predictions, average='micro', zero_division = 1)\n",
        "#     recall_micro = recall_score(all_labels, all_predictions, average='micro', zero_division = 1)\n",
        "#     f1_micro = f1_score(all_labels, all_predictions, average='micro', zero_division = 1)\n",
        "\n",
        "#     precision_macro = precision_score(all_labels, all_predictions, average='macro', zero_division = 1)\n",
        "#     recall_macro = recall_score(all_labels, all_predictions, average='macro', zero_division = 1)\n",
        "#     f1_macro = f1_score(all_labels, all_predictions, average='macro', zero_division = 1)\n",
        "\n",
        "#     # Calculate confusion matrix\n",
        "#     confusion_mat = confusion_matrix(all_labels, all_predictions)\n",
        "\n",
        "#     return {\n",
        "#         'precision_micro': precision_micro,\n",
        "#         'recall_micro': recall_micro,\n",
        "#         'f1_micro': f1_micro,\n",
        "#         'precision_macro': precision_macro,\n",
        "#         'recall_macro': recall_macro,\n",
        "#         'f1_macro': f1_macro,\n",
        "#         'confusion_matrix': confusion_mat\n",
        "#     }\n",
        "\n"
      ],
      "metadata": {
        "id": "IiIZZOlYgKuq"
      },
      "execution_count": null,
      "outputs": []
    },
    {
      "cell_type": "code",
      "source": [
        "num_epochs = 20\n",
        "losses = []\n",
        "accs = []\n",
        "total_step = len(train_loader)\n",
        "\n",
        "true_val_labels = []\n",
        "predicted_val_labels = []\n",
        "\n",
        "for epoch in tqdm(range(num_epochs), desc=\"Epochs\"):\n",
        "  total_correct = 0\n",
        "  total_samples = 0\n",
        "  val_accs = []\n",
        "  val_losses = []\n",
        "  train_accs = []\n",
        "  train_losses = []\n",
        "  for i, (sent, label) in enumerate(train_loader):\n",
        "    # print(\"sent:\" , sent)\n",
        "    # print(\"label shape: \", label.shape)\n",
        "    sent = sent.to(device)\n",
        "    label = label.to(device)\n",
        "\n",
        "    outputs = model(sent)\n",
        "    to_loss_outputs = outputs.permute(0, 2, 1)\n",
        "    # outputs = outputs.view(-1, outputs.size(2))  # Reshape to (batch_size * sequence_length, num_classes)\n",
        "\n",
        "    # print(\"output shape: \", outputs.shape)\n",
        "    # print(\"label shape: \", label.shape)\n",
        "    # print(\"output: \", outputs)\n",
        "    # print(\"label: \", label)\n",
        "    # break\n",
        "    loss = loss_function(to_loss_outputs, label)\n",
        "\n",
        "\n",
        "    optimizer.zero_grad()\n",
        "    loss.backward()\n",
        "    optimizer.step()\n",
        "    # print(\"outputs data: \", outputs.data.shape)\n",
        "    _, predicted = torch.max(outputs.data, 2)\n",
        "    total_samples += label.size(0)\n",
        "    # print(\"predicted shape: \", predicted.shape)\n",
        "    # print(\"label shape: \", label.shape)\n",
        "    # print(\"pred: \", predicted[0])\n",
        "    # print(\"label: \", label[0])\n",
        "    # break\n",
        "    # total_correct += (predicted == label).sum().item()\n",
        "    # train_losses.append(loss.item())\n",
        "    # train_accs.append((total_correct / total_samples) * 100)\n",
        "    # correct_predictions = (predicted == label)\n",
        "\n",
        "    # # Calculate accuracy for each position in the sequence\n",
        "    # accuracy_per_position = correct_predictions.float().mean(dim=0)\n",
        "\n",
        "    # # Calculate overall accuracy by taking the mean across the sequence\n",
        "    # overall_accuracy = accuracy_per_position.mean().item()\n",
        "    overall_accuracy = calculate_accuracy(predicted, label)\n",
        "\n",
        "    train_accs.append(overall_accuracy)\n",
        "    train_losses.append(loss.item())\n",
        "\n",
        "    # if (i+1) % 100 == 0:\n",
        "    #   print ('Epoch [{}/{}], Step [{}/{}], Loss: {:.4f} Accuracy: {:.4f}\\n'\n",
        "    #   .format(epoch+1, num_epochs, i+1, total_step, loss.item(), overall_accuracy*100))\n",
        "\n",
        "  for i, (sent, label) in enumerate(val_loader):\n",
        "\n",
        "\n",
        "    sent = sent.to(device)\n",
        "    label = label.to(device)\n",
        "\n",
        "    outputs = model(sent)\n",
        "    to_loss_outputs = outputs.permute(0, 2, 1)\n",
        "    loss = loss_function(to_loss_outputs, label)\n",
        "\n",
        "\n",
        "    optimizer.zero_grad()\n",
        "    loss.backward()\n",
        "    optimizer.step()\n",
        "\n",
        "    _, predicted = torch.max(outputs.data, 2)\n",
        "    total_samples += label.size(0)\n",
        "    overall_accuracy = calculate_accuracy(predicted, label)\n",
        "    # print(\"Val acc: \", overall_accuracy)\n",
        "\n",
        "    true_val_labels.extend(label.cpu().numpy())\n",
        "    predicted_val_labels.extend(predicted.cpu().numpy())\n",
        "\n",
        "    val_accs.append(overall_accuracy)\n",
        "    val_losses.append(loss.item())\n",
        "\n",
        "\n",
        "  avg_train_loss = np.array(train_losses).mean()\n",
        "  avg_train_accs = np.array(train_accs).mean()\n",
        "  avg_val_loss = np.array(val_losses).mean()\n",
        "  avg_val_accs = np.array(val_accs).mean()\n",
        "  losses.append(avg_val_loss)\n",
        "  accs.append(avg_val_accs)\n",
        "  print('Epoch [{}/{}], Train Loss: {:.4f}, Train Accuracy: {:.2f}%, Val Loss: {:.4f}, Val Accuracy: {:.2f}%'\n",
        "  .format(epoch+1, num_epochs, avg_train_loss, avg_train_accs*100, avg_val_loss, avg_val_accs*100))"
      ],
      "metadata": {
        "colab": {
          "base_uri": "https://localhost:8080/"
        },
        "id": "sp5u7UvQLMxl",
        "outputId": "8704e042-d218-49a4-c07a-86107d7d777f"
      },
      "execution_count": null,
      "outputs": [
        {
          "metadata": {
            "tags": null
          },
          "name": "stderr",
          "output_type": "stream",
          "text": [
            "Epochs:   0%|          | 0/20 [00:00<?, ?it/s]<ipython-input-30-d96154c9d0d4>:7: UserWarning: To copy construct from a tensor, it is recommended to use sourceTensor.clone().detach() or sourceTensor.clone().detach().requires_grad_(True), rather than torch.tensor(sourceTensor).\n",
            "  predictions = torch.tensor(predictions)\n",
            "<ipython-input-30-d96154c9d0d4>:8: UserWarning: To copy construct from a tensor, it is recommended to use sourceTensor.clone().detach() or sourceTensor.clone().detach().requires_grad_(True), rather than torch.tensor(sourceTensor).\n",
            "  labels = torch.tensor(labels)\n",
            "Epochs:   5%|▌         | 1/20 [01:00<19:13, 60.72s/it]"
          ]
        },
        {
          "metadata": {
            "tags": null
          },
          "name": "stdout",
          "output_type": "stream",
          "text": [
            "Epoch [1/20], Train Loss: 0.2938, Train Accuracy: 91.18%, Val Loss: 0.1423, Val Accuracy: 95.70%\n"
          ]
        },
        {
          "metadata": {
            "tags": null
          },
          "name": "stderr",
          "output_type": "stream",
          "text": [
            "\rEpochs:  10%|█         | 2/20 [01:45<15:28, 51.57s/it]"
          ]
        },
        {
          "metadata": {
            "tags": null
          },
          "name": "stdout",
          "output_type": "stream",
          "text": [
            "Epoch [2/20], Train Loss: 0.0581, Train Accuracy: 98.23%, Val Loss: 0.1014, Val Accuracy: 96.56%\n"
          ]
        },
        {
          "metadata": {
            "tags": null
          },
          "name": "stderr",
          "output_type": "stream",
          "text": [
            "\rEpochs:  15%|█▌        | 3/20 [02:32<14:00, 49.46s/it]"
          ]
        },
        {
          "metadata": {
            "tags": null
          },
          "name": "stdout",
          "output_type": "stream",
          "text": [
            "Epoch [3/20], Train Loss: 0.0471, Train Accuracy: 98.45%, Val Loss: 0.0803, Val Accuracy: 97.23%\n"
          ]
        },
        {
          "metadata": {
            "tags": null
          },
          "name": "stderr",
          "output_type": "stream",
          "text": [
            "\rEpochs:  20%|██        | 4/20 [03:19<12:51, 48.25s/it]"
          ]
        },
        {
          "metadata": {
            "tags": null
          },
          "name": "stdout",
          "output_type": "stream",
          "text": [
            "Epoch [4/20], Train Loss: 0.0374, Train Accuracy: 98.76%, Val Loss: 0.0560, Val Accuracy: 98.00%\n"
          ]
        },
        {
          "metadata": {
            "tags": null
          },
          "name": "stderr",
          "output_type": "stream",
          "text": [
            "\rEpochs:  25%|██▌       | 5/20 [04:21<13:20, 53.39s/it]"
          ]
        },
        {
          "metadata": {
            "tags": null
          },
          "name": "stdout",
          "output_type": "stream",
          "text": [
            "Epoch [5/20], Train Loss: 0.0311, Train Accuracy: 98.97%, Val Loss: 0.0423, Val Accuracy: 98.61%\n"
          ]
        },
        {
          "output_type": "stream",
          "name": "stderr",
          "text": [
            "\rEpochs:  30%|███       | 6/20 [05:09<11:59, 51.39s/it]"
          ]
        },
        {
          "output_type": "stream",
          "name": "stdout",
          "text": [
            "Epoch [6/20], Train Loss: 0.0254, Train Accuracy: 99.13%, Val Loss: 0.0309, Val Accuracy: 99.07%\n"
          ]
        },
        {
          "output_type": "stream",
          "name": "stderr",
          "text": [
            "\rEpochs:  35%|███▌      | 7/20 [05:55<10:47, 49.80s/it]"
          ]
        },
        {
          "output_type": "stream",
          "name": "stdout",
          "text": [
            "Epoch [7/20], Train Loss: 0.0214, Train Accuracy: 99.28%, Val Loss: 0.0286, Val Accuracy: 99.01%\n"
          ]
        },
        {
          "output_type": "stream",
          "name": "stderr",
          "text": [
            "\rEpochs:  40%|████      | 8/20 [06:40<09:36, 48.04s/it]"
          ]
        },
        {
          "output_type": "stream",
          "name": "stdout",
          "text": [
            "Epoch [8/20], Train Loss: 0.0185, Train Accuracy: 99.38%, Val Loss: 0.0174, Val Accuracy: 99.48%\n"
          ]
        },
        {
          "output_type": "stream",
          "name": "stderr",
          "text": [
            "\rEpochs:  45%|████▌     | 9/20 [07:24<08:35, 46.85s/it]"
          ]
        },
        {
          "output_type": "stream",
          "name": "stdout",
          "text": [
            "Epoch [9/20], Train Loss: 0.0160, Train Accuracy: 99.44%, Val Loss: 0.0158, Val Accuracy: 99.60%\n"
          ]
        },
        {
          "output_type": "stream",
          "name": "stderr",
          "text": [
            "\rEpochs:  50%|█████     | 10/20 [08:08<07:39, 45.99s/it]"
          ]
        },
        {
          "output_type": "stream",
          "name": "stdout",
          "text": [
            "Epoch [10/20], Train Loss: 0.0117, Train Accuracy: 99.57%, Val Loss: 0.0139, Val Accuracy: 99.55%\n"
          ]
        },
        {
          "output_type": "stream",
          "name": "stderr",
          "text": [
            "\rEpochs:  55%|█████▌    | 11/20 [08:51<06:46, 45.20s/it]"
          ]
        },
        {
          "output_type": "stream",
          "name": "stdout",
          "text": [
            "Epoch [11/20], Train Loss: 0.0114, Train Accuracy: 99.63%, Val Loss: 0.0136, Val Accuracy: 99.67%\n"
          ]
        },
        {
          "output_type": "stream",
          "name": "stderr",
          "text": [
            "\rEpochs:  60%|██████    | 12/20 [09:35<05:58, 44.77s/it]"
          ]
        },
        {
          "output_type": "stream",
          "name": "stdout",
          "text": [
            "Epoch [12/20], Train Loss: 0.0086, Train Accuracy: 99.70%, Val Loss: 0.0125, Val Accuracy: 99.62%\n"
          ]
        },
        {
          "output_type": "stream",
          "name": "stderr",
          "text": [
            "\rEpochs:  65%|██████▌   | 13/20 [10:18<05:09, 44.22s/it]"
          ]
        },
        {
          "output_type": "stream",
          "name": "stdout",
          "text": [
            "Epoch [13/20], Train Loss: 0.0075, Train Accuracy: 99.76%, Val Loss: 0.0080, Val Accuracy: 99.71%\n"
          ]
        },
        {
          "output_type": "stream",
          "name": "stderr",
          "text": [
            "\rEpochs:  70%|███████   | 14/20 [11:02<04:24, 44.04s/it]"
          ]
        },
        {
          "output_type": "stream",
          "name": "stdout",
          "text": [
            "Epoch [14/20], Train Loss: 0.0062, Train Accuracy: 99.82%, Val Loss: 0.0053, Val Accuracy: 99.86%\n"
          ]
        },
        {
          "output_type": "stream",
          "name": "stderr",
          "text": [
            "\rEpochs:  75%|███████▌  | 15/20 [11:44<03:37, 43.50s/it]"
          ]
        },
        {
          "output_type": "stream",
          "name": "stdout",
          "text": [
            "Epoch [15/20], Train Loss: 0.0054, Train Accuracy: 99.83%, Val Loss: 0.0054, Val Accuracy: 99.81%\n"
          ]
        },
        {
          "output_type": "stream",
          "name": "stderr",
          "text": [
            "\rEpochs:  80%|████████  | 16/20 [12:26<02:52, 43.17s/it]"
          ]
        },
        {
          "output_type": "stream",
          "name": "stdout",
          "text": [
            "Epoch [16/20], Train Loss: 0.0069, Train Accuracy: 99.80%, Val Loss: 0.0076, Val Accuracy: 99.73%\n"
          ]
        },
        {
          "output_type": "stream",
          "name": "stderr",
          "text": [
            "\rEpochs:  85%|████████▌ | 17/20 [13:10<02:09, 43.22s/it]"
          ]
        },
        {
          "output_type": "stream",
          "name": "stdout",
          "text": [
            "Epoch [17/20], Train Loss: 0.0040, Train Accuracy: 99.88%, Val Loss: 0.0054, Val Accuracy: 99.81%\n"
          ]
        },
        {
          "output_type": "stream",
          "name": "stderr",
          "text": [
            "\rEpochs:  90%|█████████ | 18/20 [13:54<01:26, 43.49s/it]"
          ]
        },
        {
          "output_type": "stream",
          "name": "stdout",
          "text": [
            "Epoch [18/20], Train Loss: 0.0039, Train Accuracy: 99.88%, Val Loss: 0.0052, Val Accuracy: 99.84%\n"
          ]
        },
        {
          "output_type": "stream",
          "name": "stderr",
          "text": [
            "\rEpochs:  95%|█████████▌| 19/20 [14:39<00:44, 44.13s/it]"
          ]
        },
        {
          "output_type": "stream",
          "name": "stdout",
          "text": [
            "Epoch [19/20], Train Loss: 0.0042, Train Accuracy: 99.89%, Val Loss: 0.0038, Val Accuracy: 99.87%\n"
          ]
        },
        {
          "output_type": "stream",
          "name": "stderr",
          "text": [
            "Epochs: 100%|██████████| 20/20 [15:22<00:00, 46.14s/it]"
          ]
        },
        {
          "output_type": "stream",
          "name": "stdout",
          "text": [
            "Epoch [20/20], Train Loss: 0.0026, Train Accuracy: 99.92%, Val Loss: 0.0063, Val Accuracy: 99.80%\n"
          ]
        },
        {
          "output_type": "stream",
          "name": "stderr",
          "text": [
            "\n"
          ]
        }
      ]
    },
    {
      "cell_type": "code",
      "source": [
        "new_loss = []\n",
        "for l in losses:\n",
        "  new_loss.append(l.item())"
      ],
      "metadata": {
        "id": "Z5FPKaHs8X_R"
      },
      "execution_count": null,
      "outputs": []
    },
    {
      "cell_type": "code",
      "source": [
        "plt.plot(range(len(new_loss)), new_loss)\n",
        "plt.xlabel(\"Epochs\")\n",
        "plt.ylabel(\"Validation Loss\")\n",
        "plt.title(\"LSTM model loss vs Epoch\")\n",
        "plt.show()"
      ],
      "metadata": {
        "colab": {
          "base_uri": "https://localhost:8080/",
          "height": 477
        },
        "id": "pT48ET94OcNI",
        "outputId": "e176bef8-2c7b-4f05-e8b5-6b3be85a8deb"
      },
      "execution_count": null,
      "outputs": [
        {
          "output_type": "display_data",
          "data": {
            "text/plain": [
              "<Figure size 640x480 with 1 Axes>"
            ],
            "image/png": "[encoded data removed]"
          },
          "metadata": {}
        }
      ]
    },
    {
      "cell_type": "code",
      "source": [
        "accs = [value * 100 for value in accs]\n",
        "plt.plot(range(len(accs)), accs)\n",
        "plt.xlabel(\"Epochs\")\n",
        "plt.ylabel(\"Validation Accuracy\")\n",
        "plt.title(\"LSTM model accuracy vs Epoch\")\n",
        "plt.show()"
      ],
      "metadata": {
        "colab": {
          "base_uri": "https://localhost:8080/",
          "height": 477
        },
        "id": "TiCvTlNd-3CY",
        "outputId": "d28fe607-63c4-4394-8a97-0f232705c6a4"
      },
      "execution_count": null,
      "outputs": [
        {
          "output_type": "display_data",
          "data": {
            "text/plain": [
              "<Figure size 640x480 with 1 Axes>"
            ],
            "image/png": "[encoded data removed]"
          },
          "metadata": {}
        }
      ]
    },
    {
      "cell_type": "code",
      "source": [
        "# def extract_actual_preds_and_labels(predictions_list, labels_list, pad_index=77):\n",
        "#     all_actual_preds = []\n",
        "#     all_actual_labels = []\n",
        "\n",
        "#     for predictions, labels in zip(predictions_list, labels_list):\n",
        "#         # Find non-pad indices\n",
        "#         non_pad_indices = [i for i, label in enumerate(labels) if label != pad_index]\n",
        "\n",
        "#         # Extract actual predictions and labels\n",
        "#         actual_preds = [predictions[i] for i in non_pad_indices]\n",
        "#         actual_labels = [labels[i] for i in non_pad_indices]\n",
        "\n",
        "#         # Append to the overall lists\n",
        "#         all_actual_preds.extend(actual_preds)\n",
        "#         all_actual_labels.extend(actual_labels)\n",
        "\n",
        "#     return all_actual_preds, all_actual_labels"
      ],
      "metadata": {
        "id": "KtXt4tjnq6ng"
      },
      "execution_count": null,
      "outputs": []
    },
    {
      "cell_type": "code",
      "source": [
        "pad_tok_idx = 77\n",
        "preds = predicted_val_labels\n",
        "labs = true_val_labels\n",
        "\n",
        "new_labels = []\n",
        "new_preds = []\n",
        "\n",
        "for pred, lab in zip(preds, labs):\n",
        "  idx = np.where(lab == pad_tok_idx)[0]\n",
        "  # print(idx, type(idx), len(idx))\n",
        "\n",
        "  if len(idx) == 0:\n",
        "    idx = len(pred)\n",
        "  else:\n",
        "    idx = idx[0]\n",
        "\n",
        "  new_preds.append(pred[:idx])\n",
        "  new_labels.append(lab[:idx])"
      ],
      "metadata": {
        "id": "MSB6gyOn0czK"
      },
      "execution_count": null,
      "outputs": []
    },
    {
      "cell_type": "code",
      "source": [
        "new_preds = [item for sublist in new_preds for item in sublist]\n",
        "new_labels = [item for sublist in new_labels for item in sublist]"
      ],
      "metadata": {
        "id": "xm1HIyiv3Rux"
      },
      "execution_count": null,
      "outputs": []
    },
    {
      "cell_type": "code",
      "source": [
        "print(classification_report(new_labels, new_preds))"
      ],
      "metadata": {
        "colab": {
          "base_uri": "https://localhost:8080/"
        },
        "id": "ovQmiFOK3Jz2",
        "outputId": "a131ed99-4384-43cf-e986-46799d648485"
      },
      "execution_count": null,
      "outputs": [
        {
          "output_type": "stream",
          "name": "stdout",
          "text": [
            "              precision    recall  f1-score   support\n",
            "\n",
            "           0       0.98      0.99      0.99     13060\n",
            "           1       0.96      0.95      0.96      4540\n",
            "           2       1.00      0.99      0.99     11360\n",
            "           3       0.99      0.99      0.99     28300\n",
            "           4       1.00      1.00      1.00      8280\n",
            "           5       1.00      1.00      1.00      2140\n",
            "           6       0.97      0.97      0.97      2620\n",
            "           7       1.00      0.99      1.00       700\n",
            "           8       0.95      0.91      0.93      1180\n",
            "           9       0.99      0.98      0.99      5320\n",
            "          10       0.99      1.00      0.99     31020\n",
            "          11       0.99      0.99      0.99     22860\n",
            "          12       0.95      0.99      0.97      1460\n",
            "\n",
            "    accuracy                           0.99    132840\n",
            "   macro avg       0.98      0.98      0.98    132840\n",
            "weighted avg       0.99      0.99      0.99    132840\n",
            "\n"
          ]
        }
      ]
    },
    {
      "cell_type": "code",
      "source": [
        "conf_matrix = confusion_matrix(new_labels, new_preds)\n",
        "class_labels = list(tag_map.keys())\n",
        "plt.figure(figsize=(8, 6))\n",
        "sns.heatmap(conf_matrix, annot=True, fmt=\"d\", cmap=\"Blues\", xticklabels=class_labels, yticklabels=class_labels)\n",
        "plt.xlabel('Predicted')\n",
        "plt.ylabel('True')\n",
        "plt.title('Validation Confusion Matrix')\n",
        "plt.show()"
      ],
      "metadata": {
        "colab": {
          "base_uri": "https://localhost:8080/",
          "height": 603
        },
        "id": "fu7eIfdanQ1q",
        "outputId": "4afdea1f-b535-41bc-a17c-3f18aa3fa0b1"
      },
      "execution_count": null,
      "outputs": [
        {
          "output_type": "display_data",
          "data": {
            "text/plain": [
              "<Figure size 800x600 with 2 Axes>"
            ],
            "image/png": "[encoded data removed]"
          },
          "metadata": {}
        }
      ]
    },
    {
      "cell_type": "code",
      "source": [
        "#--------------TEST-------------\n",
        "true_test_labels = []\n",
        "predicted_test_labels = []\n",
        "\n",
        "model.eval()\n",
        "with torch.no_grad():\n",
        "  for i, (sent, label) in enumerate(test_loader):\n",
        "      # if i == 0:\n",
        "        # print(\"sent: \", sent)\n",
        "      sent = sent.to(device)\n",
        "      label = label.to(device)\n",
        "\n",
        "      outputs = model(sent)\n",
        "      to_loss_outputs = outputs.permute(0, 2, 1)\n",
        "      loss = loss_function(to_loss_outputs, label)\n",
        "\n",
        "\n",
        "      # optimizer.zero_grad()\n",
        "      # loss.backward()\n",
        "      # optimizer.step()\n",
        "\n",
        "      _, predicted = torch.max(outputs.data, 2)\n",
        "      total_samples += label.size(0)\n",
        "      overall_accuracy = calculate_accuracy(predicted, label)\n",
        "\n",
        "      true_test_labels.extend(label.cpu().numpy())\n",
        "      predicted_test_labels.extend(predicted.cpu().numpy())"
      ],
      "metadata": {
        "colab": {
          "base_uri": "https://localhost:8080/"
        },
        "id": "3pCZ1aen7b5i",
        "outputId": "062ebd84-9986-421c-935e-e87515d48631"
      },
      "execution_count": null,
      "outputs": [
        {
          "output_type": "stream",
          "name": "stderr",
          "text": [
            "<ipython-input-30-d96154c9d0d4>:7: UserWarning: To copy construct from a tensor, it is recommended to use sourceTensor.clone().detach() or sourceTensor.clone().detach().requires_grad_(True), rather than torch.tensor(sourceTensor).\n",
            "  predictions = torch.tensor(predictions)\n",
            "<ipython-input-30-d96154c9d0d4>:8: UserWarning: To copy construct from a tensor, it is recommended to use sourceTensor.clone().detach() or sourceTensor.clone().detach().requires_grad_(True), rather than torch.tensor(sourceTensor).\n",
            "  labels = torch.tensor(labels)\n"
          ]
        }
      ]
    },
    {
      "cell_type": "code",
      "source": [
        "pad_tok_idx = 77\n",
        "preds = predicted_test_labels\n",
        "labs = true_test_labels\n",
        "\n",
        "new_labels = []\n",
        "new_preds = []\n",
        "\n",
        "for pred, lab in zip(preds, labs):\n",
        "  idx = np.where(lab == pad_tok_idx)[0]\n",
        "  # print(idx, type(idx), len(idx))\n",
        "\n",
        "  if len(idx) == 0:\n",
        "    idx = len(pred)\n",
        "  else:\n",
        "    idx = idx[0]\n",
        "\n",
        "  new_preds.append(pred[:idx])\n",
        "  new_labels.append(lab[:idx])"
      ],
      "metadata": {
        "id": "1t8o2fqEtdC5"
      },
      "execution_count": null,
      "outputs": []
    },
    {
      "cell_type": "code",
      "source": [
        "new_preds = [item for sublist in new_preds for item in sublist]\n",
        "new_labels = [item for sublist in new_labels for item in sublist]"
      ],
      "metadata": {
        "id": "nzCSi2sI5KP0"
      },
      "execution_count": null,
      "outputs": []
    },
    {
      "cell_type": "code",
      "source": [
        "print(classification_report(new_labels, new_preds))"
      ],
      "metadata": {
        "colab": {
          "base_uri": "https://localhost:8080/"
        },
        "id": "YW2ii-Hu5LKp",
        "outputId": "50440eb7-45f6-49a4-d50c-e058d1e5088f"
      },
      "execution_count": null,
      "outputs": [
        {
          "output_type": "stream",
          "name": "stdout",
          "text": [
            "              precision    recall  f1-score   support\n",
            "\n",
            "           0       0.96      0.92      0.94       629\n",
            "           1       0.73      0.93      0.82       220\n",
            "           2       0.99      0.98      0.98       512\n",
            "           3       0.98      0.99      0.99      1434\n",
            "           4       0.99      0.99      0.99       392\n",
            "           5       1.00      0.98      0.99       109\n",
            "           6       0.90      0.76      0.83       127\n",
            "           7       0.94      0.94      0.94        36\n",
            "           8       0.83      0.53      0.65        76\n",
            "           9       0.96      0.98      0.97       256\n",
            "          10       0.97      0.98      0.98      1567\n",
            "          11       0.96      0.95      0.96      1166\n",
            "          12       0.98      0.86      0.91        56\n",
            "\n",
            "    accuracy                           0.96      6580\n",
            "   macro avg       0.94      0.91      0.92      6580\n",
            "weighted avg       0.96      0.96      0.96      6580\n",
            "\n"
          ]
        }
      ]
    },
    {
      "cell_type": "code",
      "source": [
        "from sklearn.metrics import classification_report, accuracy_score, confusion_matrix"
      ],
      "metadata": {
        "id": "Qv4qQi2k6CKD"
      },
      "execution_count": null,
      "outputs": []
    },
    {
      "cell_type": "code",
      "source": [
        "cf = confusion_matrix(new_labels, new_preds)"
      ],
      "metadata": {
        "id": "pdgdseL96DTS"
      },
      "execution_count": null,
      "outputs": []
    },
    {
      "cell_type": "code",
      "source": [
        "class_labels = list(tag_map.keys())\n",
        "plt.figure(figsize=(8, 6))\n",
        "sns.heatmap(cf, annot=True, fmt=\"d\", cmap=\"Blues\", xticklabels=class_labels, yticklabels=class_labels)\n",
        "plt.xlabel('Predicted')\n",
        "plt.ylabel('True')\n",
        "plt.title('Test Confusion Matrix')\n",
        "plt.show()"
      ],
      "metadata": {
        "colab": {
          "base_uri": "https://localhost:8080/",
          "height": 603
        },
        "id": "T32lq2SW6RH8",
        "outputId": "4a8879d7-9168-4e8a-b0dc-7b4b294a6b29"
      },
      "execution_count": null,
      "outputs": [
        {
          "output_type": "display_data",
          "data": {
            "text/plain": [
              "<Figure size 800x600 with 2 Axes>"
            ],
            "image/png": "[encoded data removed]"
          },
          "metadata": {}
        }
      ]
    },
    {
      "cell_type": "code",
      "source": [
        "import os\n",
        "os.chdir(\"/content/drive/MyDrive/INLP/Assignment - 2\")\n",
        "os.getcwd()"
      ],
      "metadata": {
        "colab": {
          "base_uri": "https://localhost:8080/",
          "height": 36
        },
        "id": "4pojHf1y7b1L",
        "outputId": "000f6105-397e-420c-fd8b-6894896d6c92"
      },
      "execution_count": null,
      "outputs": [
        {
          "output_type": "execute_result",
          "data": {
            "text/plain": [
              "'/content/drive/MyDrive/INLP/Assignment - 2'"
            ],
            "application/vnd.google.colaboratory.intrinsic+json": {
              "type": "string"
            }
          },
          "metadata": {},
          "execution_count": 157
        }
      ]
    },
    {
      "cell_type": "code",
      "source": [
        "torch.save(model, \"lstm_model2_98acc_20epoch.pt\")"
      ],
      "metadata": {
        "id": "CmnVS4aM7eNR"
      },
      "execution_count": null,
      "outputs": []
    }
  ]
}