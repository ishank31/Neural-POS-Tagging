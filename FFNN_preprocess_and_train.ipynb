{
  "nbformat": 4,
  "nbformat_minor": 0,
  "metadata": {
    "colab": {
      "provenance": []
    },
    "kernelspec": {
      "name": "python3",
      "display_name": "Python 3"
    },
    "language_info": {
      "name": "python"
    }
  },
  "cells": [
    {
      "cell_type": "code",
      "source": [
        "!pip install conllu"
      ],
      "metadata": {
        "colab": {
          "base_uri": "https://localhost:8080/"
        },
        "id": "Mch2xcDWEAGy",
        "outputId": "3352f5c8-92ec-4113-fe9d-7a9faa14179f"
      },
      "execution_count": 1,
      "outputs": [
        {
          "output_type": "stream",
          "name": "stdout",
          "text": [
            "Collecting conllu\n",
            "  Downloading conllu-4.5.3-py2.py3-none-any.whl (16 kB)\n",
            "Installing collected packages: conllu\n",
            "Successfully installed conllu-4.5.3\n"
          ]
        }
      ]
    },
    {
      "cell_type": "code",
      "source": [
        "!pip install torchtext"
      ],
      "metadata": {
        "colab": {
          "base_uri": "https://localhost:8080/"
        },
        "id": "P46Q9W11ECSU",
        "outputId": "c1a4cbfe-0df0-4c44-8a9a-720e1034837d"
      },
      "execution_count": 2,
      "outputs": [
        {
          "output_type": "stream",
          "name": "stdout",
          "text": [
            "Requirement already satisfied: torchtext in /usr/local/lib/python3.10/dist-packages (0.16.0)\n",
            "Requirement already satisfied: tqdm in /usr/local/lib/python3.10/dist-packages (from torchtext) (4.66.2)\n",
            "Requirement already satisfied: requests in /usr/local/lib/python3.10/dist-packages (from torchtext) (2.31.0)\n",
            "Requirement already satisfied: torch==2.1.0 in /usr/local/lib/python3.10/dist-packages (from torchtext) (2.1.0+cu121)\n",
            "Requirement already satisfied: numpy in /usr/local/lib/python3.10/dist-packages (from torchtext) (1.25.2)\n",
            "Requirement already satisfied: torchdata==0.7.0 in /usr/local/lib/python3.10/dist-packages (from torchtext) (0.7.0)\n",
            "Requirement already satisfied: filelock in /usr/local/lib/python3.10/dist-packages (from torch==2.1.0->torchtext) (3.13.1)\n",
            "Requirement already satisfied: typing-extensions in /usr/local/lib/python3.10/dist-packages (from torch==2.1.0->torchtext) (4.9.0)\n",
            "Requirement already satisfied: sympy in /usr/local/lib/python3.10/dist-packages (from torch==2.1.0->torchtext) (1.12)\n",
            "Requirement already satisfied: networkx in /usr/local/lib/python3.10/dist-packages (from torch==2.1.0->torchtext) (3.2.1)\n",
            "Requirement already satisfied: jinja2 in /usr/local/lib/python3.10/dist-packages (from torch==2.1.0->torchtext) (3.1.3)\n",
            "Requirement already satisfied: fsspec in /usr/local/lib/python3.10/dist-packages (from torch==2.1.0->torchtext) (2023.6.0)\n",
            "Requirement already satisfied: triton==2.1.0 in /usr/local/lib/python3.10/dist-packages (from torch==2.1.0->torchtext) (2.1.0)\n",
            "Requirement already satisfied: urllib3>=1.25 in /usr/local/lib/python3.10/dist-packages (from torchdata==0.7.0->torchtext) (2.0.7)\n",
            "Requirement already satisfied: charset-normalizer<4,>=2 in /usr/local/lib/python3.10/dist-packages (from requests->torchtext) (3.3.2)\n",
            "Requirement already satisfied: idna<4,>=2.5 in /usr/local/lib/python3.10/dist-packages (from requests->torchtext) (3.6)\n",
            "Requirement already satisfied: certifi>=2017.4.17 in /usr/local/lib/python3.10/dist-packages (from requests->torchtext) (2024.2.2)\n",
            "Requirement already satisfied: MarkupSafe>=2.0 in /usr/local/lib/python3.10/dist-packages (from jinja2->torch==2.1.0->torchtext) (2.1.5)\n",
            "Requirement already satisfied: mpmath>=0.19 in /usr/local/lib/python3.10/dist-packages (from sympy->torch==2.1.0->torchtext) (1.3.0)\n"
          ]
        }
      ]
    },
    {
      "cell_type": "code",
      "execution_count": 3,
      "metadata": {
        "colab": {
          "base_uri": "https://localhost:8080/"
        },
        "id": "J_9ZJMhJDxJ1",
        "outputId": "d64fe6d0-ff20-4602-f350-f351989bb6a5"
      },
      "outputs": [
        {
          "output_type": "stream",
          "name": "stderr",
          "text": [
            "[nltk_data] Downloading package punkt to /root/nltk_data...\n",
            "[nltk_data]   Unzipping tokenizers/punkt.zip.\n"
          ]
        }
      ],
      "source": [
        "import torch\n",
        "import torch.nn as nn\n",
        "import torch.nn.functional as F\n",
        "import torch.optim as optim\n",
        "import numpy as np\n",
        "import seaborn as sns\n",
        "import matplotlib.pyplot as plt\n",
        "from conllu import parse_incr\n",
        "import nltk\n",
        "nltk.download('punkt')\n",
        "from nltk.tokenize import sent_tokenize, word_tokenize\n",
        "import gensim.downloader\n",
        "from torch.utils.data import Dataset\n",
        "from torchtext.vocab import build_vocab_from_iterator, Vocab\n",
        "from torch.nn.utils.rnn import pad_sequence\n",
        "from collections import Counter\n",
        "from torch.utils.data import DataLoader\n",
        "from sklearn.metrics import classification_report, accuracy_score, confusion_matrix\n",
        "plt.style.use('ggplot')"
      ]
    },
    {
      "cell_type": "code",
      "source": [
        "torch.manual_seed(42)"
      ],
      "metadata": {
        "colab": {
          "base_uri": "https://localhost:8080/"
        },
        "id": "t4MJ9QaOfDoN",
        "outputId": "dd83003b-988b-4f33-9482-3899adc19c8e"
      },
      "execution_count": 4,
      "outputs": [
        {
          "output_type": "execute_result",
          "data": {
            "text/plain": [
              "<torch._C.Generator at 0x7b6b834da8f0>"
            ]
          },
          "metadata": {},
          "execution_count": 4
        }
      ]
    },
    {
      "cell_type": "code",
      "source": [
        "tags = set()\n",
        "with open('/content/drive/MyDrive/INLP/Assignment - 2/en_atis-ud-train.conllu', 'r', encoding='utf-8') as f:\n",
        "    for sentence in parse_incr(f):\n",
        "        for token in sentence:\n",
        "            # print(f\"Word: {token['form']}, POS Tag: {token['upostag']}\")\n",
        "            tags.add(token['upostag'])"
      ],
      "metadata": {
        "id": "GEDaDVZpD855"
      },
      "execution_count": 5,
      "outputs": []
    },
    {
      "cell_type": "code",
      "source": [
        "tags = list(tags)\n",
        "tags"
      ],
      "metadata": {
        "colab": {
          "base_uri": "https://localhost:8080/"
        },
        "id": "5pJiVb_-EHBU",
        "outputId": "247a462a-1f90-4c02-b0ca-f264850bcaef"
      },
      "execution_count": 6,
      "outputs": [
        {
          "output_type": "execute_result",
          "data": {
            "text/plain": [
              "['NUM',\n",
              " 'NOUN',\n",
              " 'DET',\n",
              " 'ADJ',\n",
              " 'CCONJ',\n",
              " 'PART',\n",
              " 'ADP',\n",
              " 'PRON',\n",
              " 'INTJ',\n",
              " 'PROPN',\n",
              " 'ADV',\n",
              " 'AUX',\n",
              " 'VERB']"
            ]
          },
          "metadata": {},
          "execution_count": 6
        }
      ]
    },
    {
      "cell_type": "code",
      "source": [
        "tag_map = {tag: i for i, tag in enumerate(tags)}\n",
        "# tag_map['PAD'] = len(tag_map)\n",
        "# tag_map['START'] = len(tag_map)\n",
        "# tag_map['END'] = len(tag_map)\n",
        "# tag_map['UNK'] = len(tag_map)\n",
        "tag_map"
      ],
      "metadata": {
        "colab": {
          "base_uri": "https://localhost:8080/"
        },
        "id": "jY_tsIYBFFWr",
        "outputId": "a388a97e-60de-40b3-c2e1-f052420f6777"
      },
      "execution_count": 7,
      "outputs": [
        {
          "output_type": "execute_result",
          "data": {
            "text/plain": [
              "{'NUM': 0,\n",
              " 'NOUN': 1,\n",
              " 'DET': 2,\n",
              " 'ADJ': 3,\n",
              " 'CCONJ': 4,\n",
              " 'PART': 5,\n",
              " 'ADP': 6,\n",
              " 'PRON': 7,\n",
              " 'INTJ': 8,\n",
              " 'PROPN': 9,\n",
              " 'ADV': 10,\n",
              " 'AUX': 11,\n",
              " 'VERB': 12}"
            ]
          },
          "metadata": {},
          "execution_count": 7
        }
      ]
    },
    {
      "cell_type": "code",
      "source": [
        "tag_map = {'VERB': 0,\n",
        " 'ADJ': 1,\n",
        " 'DET': 2,\n",
        " 'ADP': 3,\n",
        " 'PRON': 4,\n",
        " 'CCONJ': 5,\n",
        " 'NUM': 6,\n",
        " 'INTJ': 7,\n",
        " 'ADV': 8,\n",
        " 'AUX': 9,\n",
        " 'PROPN': 10,\n",
        " 'NOUN': 11,\n",
        " 'PART': 12}"
      ],
      "metadata": {
        "id": "kMNxfODBm83R"
      },
      "execution_count": 8,
      "outputs": []
    },
    {
      "cell_type": "code",
      "source": [
        "def get_data(path):\n",
        "  data = []\n",
        "  data_file = open(path, \"r\", encoding=\"utf-8\")\n",
        "  for sentence in parse_incr(data_file):\n",
        "      sent = sentence.metadata\n",
        "      tok_sent = sent_tokenize(sent['text'])\n",
        "      words = []\n",
        "      tags = []\n",
        "      for token in sentence:\n",
        "          # print(f\"Word: {token['form']}, POS Tag: {token['upostag']}\")\n",
        "          if token['upostag'] != 'SYM':\n",
        "            words.append(token['form'])\n",
        "            tags.append(tag_map[token['upostag']])\n",
        "      data.append((words, tags))\n",
        "  return data"
      ],
      "metadata": {
        "id": "DPBckzsvFJKp"
      },
      "execution_count": 9,
      "outputs": []
    },
    {
      "cell_type": "code",
      "source": [
        "train_data = get_data(\"/content/drive/MyDrive/INLP/Assignment - 2/en_atis-ud-train.conllu\")\n",
        "val_data = get_data(\"/content/drive/MyDrive/INLP/Assignment - 2/en_atis-ud-dev.conllu\")\n",
        "test_data = get_data(\"/content/drive/MyDrive/INLP/Assignment - 2/en_atis-ud-test.conllu\")"
      ],
      "metadata": {
        "id": "1XUAhE8TVYky"
      },
      "execution_count": 10,
      "outputs": []
    },
    {
      "cell_type": "code",
      "source": [
        "def get_sent_tags(data):\n",
        "  sentences = []\n",
        "  tags = []\n",
        "  for d in data:\n",
        "    sentences.append(d[0])\n",
        "    tags.append(d[1])\n",
        "  return sentences, tags"
      ],
      "metadata": {
        "id": "OIpcSJtsZKoP"
      },
      "execution_count": 11,
      "outputs": []
    },
    {
      "cell_type": "code",
      "source": [
        "p = 3  # Number of previous tokens\n",
        "s = 3  # Number of successive tokens"
      ],
      "metadata": {
        "id": "sTvrGYTevDBH"
      },
      "execution_count": 12,
      "outputs": []
    },
    {
      "cell_type": "code",
      "source": [
        "def create_sliding_windows_with_labels(sentences, labels, p, s, tag_map):\n",
        "    windows = []\n",
        "    extended_labels = []\n",
        "\n",
        "    for sentence, label_sequence in zip(sentences, labels):\n",
        "        # Extend the sentence to handle previous and successive tokens\n",
        "        extended_sentence = (['<s>'] * p) + sentence + (['</s>'] * s)\n",
        "\n",
        "        # Extend the label sequence accordingly\n",
        "        extended_labels_sequence = ([88] * p) + label_sequence + ([99] * s)  # Assuming 0 is the padding label\n",
        "\n",
        "        # Create sliding windows\n",
        "        for i in range(len(extended_sentence) - p - s):\n",
        "            window = extended_sentence[i : i + p + s + 1]\n",
        "            window_labels = extended_labels_sequence[i : i + p + s + 1]\n",
        "            label = window_labels[p]\n",
        "\n",
        "            windows.append((window, label))\n",
        "\n",
        "    return windows"
      ],
      "metadata": {
        "id": "NqXrKO1CZCzY"
      },
      "execution_count": 13,
      "outputs": []
    },
    {
      "cell_type": "code",
      "source": [
        "train_sent, train_tags = get_sent_tags(train_data)\n",
        "val_sent, val_tags = get_sent_tags(val_data)\n",
        "test_sent, test_tags = get_sent_tags(test_data)"
      ],
      "metadata": {
        "id": "IjkKN2I4vHv3"
      },
      "execution_count": 14,
      "outputs": []
    },
    {
      "cell_type": "code",
      "source": [
        "train_result = create_sliding_windows_with_labels(train_sent, train_tags, p, s, tag_map)\n",
        "val_result = create_sliding_windows_with_labels(val_sent, val_tags, p, s, tag_map)\n",
        "test_result = create_sliding_windows_with_labels(test_sent, test_tags, p, s, tag_map)"
      ],
      "metadata": {
        "id": "mvevS73ovGFY"
      },
      "execution_count": 15,
      "outputs": []
    },
    {
      "cell_type": "code",
      "source": [
        "train_result[0]"
      ],
      "metadata": {
        "colab": {
          "base_uri": "https://localhost:8080/"
        },
        "id": "0wZYkS2mFsNm",
        "outputId": "d32c1289-3138-4b73-eb70-baa04ca1812e"
      },
      "execution_count": 16,
      "outputs": [
        {
          "output_type": "execute_result",
          "data": {
            "text/plain": [
              "(['<s>', '<s>', '<s>', 'what', 'is', 'the', 'cost'], 4)"
            ]
          },
          "metadata": {},
          "execution_count": 16
        }
      ]
    },
    {
      "cell_type": "code",
      "source": [
        "glove_vectors = gensim.downloader.load('glove-wiki-gigaword-300')"
      ],
      "metadata": {
        "id": "B-ewTt0nFPaB",
        "colab": {
          "base_uri": "https://localhost:8080/"
        },
        "outputId": "a6158835-920f-4862-f04b-7df9f61651d8"
      },
      "execution_count": 17,
      "outputs": [
        {
          "output_type": "stream",
          "name": "stdout",
          "text": [
            "[==================================================] 100.0% 376.1/376.1MB downloaded\n"
          ]
        }
      ]
    },
    {
      "cell_type": "code",
      "source": [
        "START_TOKEN = \"<s>\"\n",
        "END_TOKEN = \"</s>\"\n",
        "UNKNOWN_TOKEN = \"<unk>\"\n",
        "PAD_TOKEN = \"<pad>\""
      ],
      "metadata": {
        "id": "RZ9aZbVpFRQY"
      },
      "execution_count": 18,
      "outputs": []
    },
    {
      "cell_type": "code",
      "source": [
        "class POSTagDataset(Dataset):\n",
        "    def __init__(self, data: list[tuple[list[str], int]], num_classes, vocabulary:Vocab|None=None):\n",
        "        self.sentences = [i[0] for i in data] # list of sentences\n",
        "        self.labels = [i[1] for i in data]\n",
        "\n",
        "        # one_hot_vecs = []\n",
        "        # for label in self.labels:\n",
        "        #   one_hot = [0] * num_classes\n",
        "        #   one_hot[label] = 1\n",
        "        #   one_hot_vecs.append(one_hot)\n",
        "\n",
        "        # self.labels = one_hot_vecs\n",
        "\n",
        "        # self.embeddings = []\n",
        "        # for sentence in self.sentences:\n",
        "        #     embeds = []\n",
        "        #     for word in sentence:\n",
        "        #         embed = glove_vectors[word] if word in glove_vectors.key_to_index else [0.0] * 300\n",
        "        #         embeds.append(embed)\n",
        "        #     # sentence_embed = [glove_vectors[word] for word in sentence if word in glove_vectors]\n",
        "        #     stacked_embeddings = [item for sublist in embeds for item in sublist]\n",
        "        #     self.embeddings.append(stacked_embeddings)\n",
        "\n",
        "        # Replace words which occur less than 5 times with <UNK>\n",
        "        all_words = [word for sentence in self.sentences for word in sentence]\n",
        "\n",
        "        word_counts = Counter(all_words)\n",
        "        frequency_threshold = 5\n",
        "\n",
        "        infrequent_words = {word for word, count in word_counts.items() if count < frequency_threshold}\n",
        "        sentences_with_unk = [[\"<unk>\" if word in infrequent_words else word for word in sentence]for sentence in self.sentences]\n",
        "\n",
        "        self.sentences = sentences_with_unk\n",
        "        # print(\"length of sentences: \", len(self.sentences))\n",
        "        # print(\"length of labels: \", len(self.labels))\n",
        "        # print(\"length of embeddings: \", len(self.embeddings))\n",
        "\n",
        "        if vocabulary is None:\n",
        "            self.vocabulary = build_vocab_from_iterator(self.sentences, specials=[START_TOKEN, END_TOKEN, UNKNOWN_TOKEN]) # use min_freq for handling unkown words better\n",
        "            self.vocabulary.set_default_index(self.vocabulary[UNKNOWN_TOKEN])\n",
        "        else:\n",
        "            self.vocabulary = vocabulary\n",
        "\n",
        "    def __len__(self) -> int:\n",
        "        return len(self.sentences)\n",
        "\n",
        "    def __getlabels__(self) -> list[int]:\n",
        "        return self.labels\n",
        "\n",
        "    def __getembeddings__(self) -> list[list[float]]:\n",
        "        return self.embeddings\n",
        "\n",
        "    def __getitem__(self, index: int) -> tuple[torch.Tensor, torch.Tensor]:\n",
        "        \"\"\"Get the datapoint at `index`.\"\"\"\n",
        "        # return torch.tensor(self.vocabulary.lookup_indices(self.sentences[index])), torch.tensor(self.labels[index])\n",
        "        return torch.tensor(self.vocabulary.lookup_indices(self.sentences[index])), torch.tensor(self.labels[index])"
      ],
      "metadata": {
        "id": "9cjBRtLZFWbe"
      },
      "execution_count": 19,
      "outputs": []
    },
    {
      "cell_type": "code",
      "source": [
        "train_dataset = POSTagDataset(train_result,len(tag_map))\n",
        "val_dataset = POSTagDataset(val_result,len(tag_map), vocabulary=train_dataset.vocabulary)\n",
        "test_dataset = POSTagDataset(test_result,len(tag_map), vocabulary=train_dataset.vocabulary)"
      ],
      "metadata": {
        "id": "Sri3uqwjFYGB"
      },
      "execution_count": 20,
      "outputs": []
    },
    {
      "cell_type": "code",
      "source": [
        "train_vocab = train_dataset.vocabulary.get_stoi()"
      ],
      "metadata": {
        "id": "DtZgFBY4kaVY"
      },
      "execution_count": 21,
      "outputs": []
    },
    {
      "cell_type": "code",
      "source": [
        "import pickle\n",
        "\n",
        "def save_vocab(vocab, filename):\n",
        "    with open(filename, 'wb') as file:\n",
        "        pickle.dump(vocab, file)"
      ],
      "metadata": {
        "id": "ms0eXFYO5E1Z"
      },
      "execution_count": 22,
      "outputs": []
    },
    {
      "cell_type": "code",
      "source": [
        "import os\n",
        "os.chdir(\"/content/drive/MyDrive/INLP/Assignment - 2\")\n",
        "os.getcwd()"
      ],
      "metadata": {
        "colab": {
          "base_uri": "https://localhost:8080/",
          "height": 36
        },
        "id": "4pB1imYi5HBH",
        "outputId": "1740f1f6-47e5-4f1a-a7c6-e41423272c15"
      },
      "execution_count": 23,
      "outputs": [
        {
          "output_type": "execute_result",
          "data": {
            "text/plain": [
              "'/content/drive/MyDrive/INLP/Assignment - 2'"
            ],
            "application/vnd.google.colaboratory.intrinsic+json": {
              "type": "string"
            }
          },
          "metadata": {},
          "execution_count": 23
        }
      ]
    },
    {
      "cell_type": "code",
      "source": [
        "save_vocab(train_vocab, \"ffnn_model2_vocab_ps3.pkl\")"
      ],
      "metadata": {
        "id": "_wg7k4gK5MFA"
      },
      "execution_count": 24,
      "outputs": []
    },
    {
      "cell_type": "code",
      "source": [
        "num_to_word = {value: key for key, value in train_vocab.items()}\n",
        "num_to_word"
      ],
      "metadata": {
        "colab": {
          "base_uri": "https://localhost:8080/"
        },
        "id": "aiGAB58lkwM-",
        "outputId": "4b1fdc7b-6ed5-4063-b29f-d271875cfeeb"
      },
      "execution_count": 25,
      "outputs": [
        {
          "output_type": "execute_result",
          "data": {
            "text/plain": [
              "{791: 'supper',\n",
              " 790: 'sort',\n",
              " 789: 'snacks',\n",
              " 787: 'pearson',\n",
              " 786: 'nw',\n",
              " 783: 'lester',\n",
              " 781: 'kinds',\n",
              " 780: 'inform',\n",
              " 778: 'discount',\n",
              " 777: 'companies',\n",
              " 774: 'bay',\n",
              " 770: '746',\n",
              " 769: '730',\n",
              " 768: '723',\n",
              " 767: '459',\n",
              " 765: '417',\n",
              " 758: '1230',\n",
              " 756: '1130',\n",
              " 755: '1045',\n",
              " 752: 'trans',\n",
              " 751: 'thereafter',\n",
              " 747: 'say',\n",
              " 744: 'off',\n",
              " 743: 'oak',\n",
              " 742: 'largest',\n",
              " 740: 'inexpensive',\n",
              " 738: 'greatest',\n",
              " 735: 'connects',\n",
              " 734: 'called',\n",
              " 733: 'bound',\n",
              " 731: 'approximately',\n",
              " 730: '705',\n",
              " 728: '1850',\n",
              " 727: '1055',\n",
              " 726: \"'ve\",\n",
              " 725: 'world',\n",
              " 717: 'travels',\n",
              " 716: 'toward',\n",
              " 715: 'tonight',\n",
              " 714: 'thing',\n",
              " 713: 'they',\n",
              " 737: 'ever',\n",
              " 711: 'taking',\n",
              " 707: 'spend',\n",
              " 706: 'sorry',\n",
              " 704: 'single',\n",
              " 703: 'seventeen',\n",
              " 702: 'seat',\n",
              " 699: 'run',\n",
              " 695: 'red',\n",
              " 694: 'reaching',\n",
              " 690: 'priced',\n",
              " 688: 'overnight',\n",
              " 686: 'operation',\n",
              " 685: 'offered',\n",
              " 684: 'nighttime',\n",
              " 682: 'must',\n",
              " 680: 'midway',\n",
              " 678: 'listed',\n",
              " 676: 'limo',\n",
              " 763: '324',\n",
              " 675: 'lga',\n",
              " 696: 'regarding',\n",
              " 674: 'lands',\n",
              " 673: 'landing',\n",
              " 672: 'kennedy',\n",
              " 671: 'jet',\n",
              " 667: 'includes',\n",
              " 666: 'hopefully',\n",
              " 665: 'here',\n",
              " 662: 'friends',\n",
              " 661: 'final',\n",
              " 660: 'eye',\n",
              " 659: 'exceeding',\n",
              " 658: 'equipment',\n",
              " 653: 'designate',\n",
              " 652: 'continuing',\n",
              " 650: 'comes',\n",
              " 745: 'planning',\n",
              " 649: 'come',\n",
              " 648: 'combination',\n",
              " 643: 'carried',\n",
              " 642: 'calling',\n",
              " 639: 'begins',\n",
              " 638: 'beginning',\n",
              " 761: '1600',\n",
              " 637: 'basis',\n",
              " 636: 'ap80',\n",
              " 635: 'advertises',\n",
              " 632: '845',\n",
              " 631: '823',\n",
              " 630: '82',\n",
              " 722: 'whether',\n",
              " 628: '71',\n",
              " 627: '645',\n",
              " 625: '608',\n",
              " 623: '428',\n",
              " 622: '420',\n",
              " 621: '400',\n",
              " 641: 'buy',\n",
              " 620: '382',\n",
              " 617: '329',\n",
              " 616: '305',\n",
              " 614: '271',\n",
              " 613: '225',\n",
              " 611: '1765',\n",
              " 610: '1505',\n",
              " 609: '130',\n",
              " 606: '1207',\n",
              " 604: '110',\n",
              " 601: '1024',\n",
              " 600: '1017',\n",
              " 599: 'sure',\n",
              " 595: '733',\n",
              " 593: '1994',\n",
              " 739: 'grounds',\n",
              " 592: '1993',\n",
              " 782: 'lax',\n",
              " 591: 'm',\n",
              " 590: 'j31',\n",
              " 772: 'a.m.',\n",
              " 589: 'eight',\n",
              " 584: '1200',\n",
              " 582: 'stands',\n",
              " 581: 's',\n",
              " 580: 'qo',\n",
              " 578: 'ac',\n",
              " 577: 'aa',\n",
              " 575: '932',\n",
              " 574: '720',\n",
              " 573: '3724',\n",
              " 572: '1145',\n",
              " 569: 'transcontinental',\n",
              " 561: 'up',\n",
              " 560: 'thursdays',\n",
              " 558: 'rentals',\n",
              " 557: 'offers',\n",
              " 556: 'nevada',\n",
              " 555: 'highest',\n",
              " 554: 'hello',\n",
              " 553: 'booking',\n",
              " 552: 'america',\n",
              " 551: '300',\n",
              " 718: 'try',\n",
              " 550: '200',\n",
              " 750: 'symbols',\n",
              " 548: 'takeoff',\n",
              " 546: 'look',\n",
              " 543: 'land',\n",
              " 541: 'dca',\n",
              " 762: '20',\n",
              " 247: 'airfare',\n",
              " 22: 'dallas',\n",
              " 44: 'first',\n",
              " 249: 'looking',\n",
              " 246: 'stops',\n",
              " 240: 'general',\n",
              " 177: 'depart',\n",
              " 579: 'names',\n",
              " 239: 'love',\n",
              " 237: 'connecting',\n",
              " 278: 'your',\n",
              " 236: 'okay',\n",
              " 691: 'put',\n",
              " 331: 'weekday',\n",
              " 231: 'flies',\n",
              " 228: 'stopping',\n",
              " 227: 'capacity',\n",
              " 225: 'make',\n",
              " 732: 'besides',\n",
              " 389: 'qx',\n",
              " 222: 'direct',\n",
              " 468: 'arrange',\n",
              " 314: '1991',\n",
              " 217: 'november',\n",
              " 596: '767',\n",
              " 356: 'each',\n",
              " 594: '21',\n",
              " 283: 'guardia',\n",
              " 465: 'rates',\n",
              " 215: 'it',\n",
              " 214: 'ontario',\n",
              " 253: 'field',\n",
              " 409: 'making',\n",
              " 559: 'repeat',\n",
              " 438: 'march',\n",
              " 307: 'fifteenth',\n",
              " 213: 'december',\n",
              " 212: 'dollars',\n",
              " 788: 'question',\n",
              " 608: '124',\n",
              " 197: 'used',\n",
              " 204: 'international',\n",
              " 571: '1100',\n",
              " 203: 'last',\n",
              " 202: 'arrives',\n",
              " 605: '1158',\n",
              " 251: '2',\n",
              " 442: '1291',\n",
              " 200: 'economy',\n",
              " 760: '150',\n",
              " 378: '838',\n",
              " 598: 'hold',\n",
              " 198: 'than',\n",
              " 192: 'daily',\n",
              " 191: '4',\n",
              " 712: 'them',\n",
              " 189: 'least',\n",
              " 603: '106',\n",
              " 188: 'know',\n",
              " 181: '12',\n",
              " 522: 'ewr',\n",
              " 179: 'see',\n",
              " 9: 'me',\n",
              " 640: 'belong',\n",
              " 273: 'late',\n",
              " 175: 'travel',\n",
              " 193: 'columbus',\n",
              " 20: 'show',\n",
              " 333: 'their',\n",
              " 697: 'represented',\n",
              " 173: 'long',\n",
              " 170: 'type',\n",
              " 161: 'leaves',\n",
              " 162: 'about',\n",
              " 547: 'month',\n",
              " 260: 'will',\n",
              " 563: '217',\n",
              " 415: '825',\n",
              " 457: 'ten',\n",
              " 159: 'tomorrow',\n",
              " 168: 'many',\n",
              " 391: 'serving',\n",
              " 154: 'around',\n",
              " 428: 'starting',\n",
              " 549: 'who',\n",
              " 148: 'get',\n",
              " 646: 'charges',\n",
              " 55: 'transportation',\n",
              " 187: 'lowest',\n",
              " 147: 'downtown',\n",
              " 207: 'into',\n",
              " 146: 'montreal',\n",
              " 524: 'heading',\n",
              " 143: 'cincinnati',\n",
              " 363: 'alaska',\n",
              " 141: '6',\n",
              " 748: 'sounds',\n",
              " 140: 'latest',\n",
              " 775: 'being',\n",
              " 138: 'or',\n",
              " 719: 'vicinity',\n",
              " 137: 'do',\n",
              " 424: '230',\n",
              " 136: '5',\n",
              " 165: '8',\n",
              " 585: '201',\n",
              " 208: 'less',\n",
              " 720: 'visit',\n",
              " 77: 'afternoon',\n",
              " 133: 'airline',\n",
              " 107: 'lake',\n",
              " 349: 'october',\n",
              " 186: 'california',\n",
              " 289: 'interested',\n",
              " 693: 'reaches',\n",
              " 195: 'could',\n",
              " 126: 'august',\n",
              " 285: 'only',\n",
              " 130: 'worth',\n",
              " 749: 'such',\n",
              " 708: 'stapleton',\n",
              " 252: 'eastern',\n",
              " 405: 'during',\n",
              " 129: 'angeles',\n",
              " 3: 'to',\n",
              " 127: 'cleveland',\n",
              " 562: 'various',\n",
              " 66: 'which',\n",
              " 5: 'flights',\n",
              " 586: '210',\n",
              " 339: 'sixteenth',\n",
              " 49: 'wednesday',\n",
              " 475: '1992',\n",
              " 46: 'please',\n",
              " 624: '497766',\n",
              " 229: 'as',\n",
              " 481: 'include',\n",
              " 503: '73s',\n",
              " 216: 'mean',\n",
              " 96: 'twenty',\n",
              " 540: 'capacities',\n",
              " 119: \"'s\",\n",
              " 698: 'reverse',\n",
              " 11: 'san',\n",
              " 39: 'fare',\n",
              " 205: 'la',\n",
              " 771: '771',\n",
              " 2: '<unk>',\n",
              " 275: 'third',\n",
              " 478: 'arrivals',\n",
              " 0: '<s>',\n",
              " 199: \"'m\",\n",
              " 656: 'else',\n",
              " 421: 'takeoffs',\n",
              " 588: 'cars',\n",
              " 38: 'for',\n",
              " 626: '639',\n",
              " 67: 'way',\n",
              " 655: 'earlier',\n",
              " 37: 'morning',\n",
              " 36: 'fly',\n",
              " 629: '755',\n",
              " 4: 'from',\n",
              " 302: 'distance',\n",
              " 472: 'restrictions',\n",
              " 79: 'airport',\n",
              " 298: 'canadian',\n",
              " 74: 'arrive',\n",
              " 33: 'of',\n",
              " 48: 'cheapest',\n",
              " 32: 'are',\n",
              " 30: 'between',\n",
              " 90: 'miami',\n",
              " 434: 'those',\n",
              " 764: '416',\n",
              " 31: 'list',\n",
              " 345: 'my',\n",
              " 497: 'sfo',\n",
              " 255: 'has',\n",
              " 267: 'most',\n",
              " 51: 'there',\n",
              " 235: 'serves',\n",
              " 19: 'atlanta',\n",
              " 183: 'coach',\n",
              " 316: 'fourth',\n",
              " 458: 'three',\n",
              " 279: 'ninth',\n",
              " 248: 'fifth',\n",
              " 7: 'on',\n",
              " 16: 'and',\n",
              " 254: 'eighth',\n",
              " 390: 'right',\n",
              " 375: 'arizona',\n",
              " 317: 'numbers',\n",
              " 132: \"o'clock\",\n",
              " 176: 'burbank',\n",
              " 98: 'salt',\n",
              " 542: 'four',\n",
              " 42: 'pm',\n",
              " 644: 'carries',\n",
              " 157: 'minneapolis',\n",
              " 417: 'mornings',\n",
              " 85: 'united',\n",
              " 329: 'florida',\n",
              " 1: '</s>',\n",
              " 282: 'through',\n",
              " 681: 'minimum',\n",
              " 47: 'arriving',\n",
              " 206: 'return',\n",
              " 431: 'mco',\n",
              " 746: 'preferably',\n",
              " 75: 'dc',\n",
              " 135: 'friday',\n",
              " 50: 'oakland',\n",
              " 736: 'define',\n",
              " 24: 'is',\n",
              " 455: 'reservation',\n",
              " 459: '1245',\n",
              " 10: 'a',\n",
              " 705: 'somebody',\n",
              " 493: 'provide',\n",
              " 422: 'thank',\n",
              " 15: 'what',\n",
              " 172: 'code',\n",
              " 323: 'jersey',\n",
              " 124: 'los',\n",
              " 27: 'philadelphia',\n",
              " 169: 'expensive',\n",
              " 342: 'returning',\n",
              " 701: 'scheduled',\n",
              " 651: 'continent',\n",
              " 531: 'schedules',\n",
              " 97: 'newark',\n",
              " 71: 'leave',\n",
              " 309: 'smallest',\n",
              " 350: 'abbreviation',\n",
              " 194: 'much',\n",
              " 76: 'does',\n",
              " 485: 'tennessee',\n",
              " 61: 'one',\n",
              " 105: 'evening',\n",
              " 29: 'airlines',\n",
              " 403: 'close',\n",
              " 134: 'seventh',\n",
              " 108: 'charlotte',\n",
              " 150: 'detroit',\n",
              " 174: 'service',\n",
              " 209: 'night',\n",
              " 142: 'june',\n",
              " 58: 'available',\n",
              " 23: 'all',\n",
              " 160: 'by',\n",
              " 352: 'if',\n",
              " 602: '1030',\n",
              " 397: 'days',\n",
              " 418: 'utah',\n",
              " 128: 'stop',\n",
              " 410: 'more',\n",
              " 62: 'new',\n",
              " 52: 'round',\n",
              " 21: 'pittsburgh',\n",
              " 238: 'car',\n",
              " 270: 'breakfast',\n",
              " 511: '1222',\n",
              " 454: 'plan',\n",
              " 536: 'without',\n",
              " 779: 'economic',\n",
              " 171: '7',\n",
              " 63: 'st.',\n",
              " 151: 'an',\n",
              " 366: 'no',\n",
              " 521: 'dulles',\n",
              " 679: 'longest',\n",
              " 25: 'baltimore',\n",
              " 759: '1300',\n",
              " 335: 'carolina',\n",
              " 100: 'indianapolis',\n",
              " 35: 'leaving',\n",
              " 619: '345',\n",
              " 184: 'april',\n",
              " 519: 'connections',\n",
              " 73: 'american',\n",
              " 41: 'would',\n",
              " 6: 'the',\n",
              " 425: 'different',\n",
              " 379: 'airplane',\n",
              " 504: 'f28',\n",
              " 59: 'before',\n",
              " 268: 'number',\n",
              " 54: 'with',\n",
              " 419: '57',\n",
              " 469: 'connect',\n",
              " 113: 'houston',\n",
              " 416: 'cheap',\n",
              " 670: 'itinerary',\n",
              " 452: 'miles',\n",
              " 243: 'now',\n",
              " 144: 'going',\n",
              " 99: 'delta',\n",
              " 69: \"'d\",\n",
              " 245: 'out',\n",
              " 545: 'lives',\n",
              " 81: 'chicago',\n",
              " 120: 'memphis',\n",
              " 535: 'tuesdays',\n",
              " 284: 'two',\n",
              " 68: 'fares',\n",
              " 312: 'same',\n",
              " 43: 'after',\n",
              " 597: 'd9s',\n",
              " 338: 'offer',\n",
              " 709: 'staying',\n",
              " 87: 'las',\n",
              " 92: 'orlando',\n",
              " 70: 'milwaukee',\n",
              " 88: 'monday',\n",
              " 218: 'westchester',\n",
              " 444: '281',\n",
              " 89: 'want',\n",
              " 785: 'ls',\n",
              " 250: 'price',\n",
              " 26: 'like',\n",
              " 104: 'find',\n",
              " 723: 'within',\n",
              " 13: 'denver',\n",
              " 265: 'times',\n",
              " 117: 'us',\n",
              " 201: 'time',\n",
              " 326: 'people',\n",
              " 220: 'take',\n",
              " 163: '10',\n",
              " 494: 'wish',\n",
              " 654: 'directly',\n",
              " 230: 'be',\n",
              " 93: 'phoenix',\n",
              " 276: 'possible',\n",
              " 94: 'vegas',\n",
              " 310: 'use',\n",
              " 45: 'trip',\n",
              " 664: 'having',\n",
              " 8: 'flight',\n",
              " 101: 'diego',\n",
              " 301: 'via',\n",
              " 766: '419',\n",
              " 178: 'paul',\n",
              " 156: 'tampa',\n",
              " 60: 'you',\n",
              " 741: 'l1011',\n",
              " 724: 'working',\n",
              " 102: 'saturday',\n",
              " 587: '80',\n",
              " 17: 'francisco',\n",
              " 451: 'meaning',\n",
              " 244: 'served',\n",
              " 106: 'kansas',\n",
              " 109: 'am',\n",
              " 533: 'soon',\n",
              " 615: '297',\n",
              " 110: 'how',\n",
              " 152: 'stopover',\n",
              " 226: 'september',\n",
              " 64: 'have',\n",
              " 180: 'twa',\n",
              " 111: 'can',\n",
              " 450: 'maximum',\n",
              " 448: 'departs',\n",
              " 116: 'air',\n",
              " 233: 'county',\n",
              " 729: '4400',\n",
              " 82: 'go',\n",
              " 773: 'another',\n",
              " 510: '1110',\n",
              " 131: 'july',\n",
              " 123: 'fort',\n",
              " 122: 'early',\n",
              " 118: 'noon',\n",
              " 258: 'goes',\n",
              " 280: '1000',\n",
              " 34: 'washington',\n",
              " 121: 'next',\n",
              " 287: 'then',\n",
              " 343: 'seventeenth',\n",
              " 234: 'serve',\n",
              " 125: 'aircraft',\n",
              " 210: 'flying',\n",
              " 190: 'beach',\n",
              " 257: 'plane',\n",
              " 86: 'tuesday',\n",
              " 259: 'prices',\n",
              " 40: 'city',\n",
              " 261: 'cities',\n",
              " 262: 'meals',\n",
              " 114: 'any',\n",
              " 263: 'mitchell',\n",
              " 564: '852',\n",
              " 484: 'six',\n",
              " 489: 'yn',\n",
              " 153: 'petersburg',\n",
              " 264: 'back',\n",
              " 164: 'jose',\n",
              " 266: 'using',\n",
              " 277: 'ua',\n",
              " 269: '3',\n",
              " 271: 'business',\n",
              " 516: 'airplanes',\n",
              " 566: 'determine',\n",
              " 182: 'may',\n",
              " 185: 'book',\n",
              " 272: 'sixth',\n",
              " 274: 'limousine',\n",
              " 281: 'this',\n",
              " 677: 'limousines',\n",
              " 404: 'costs',\n",
              " 286: 'twentieth',\n",
              " 224: 'airports',\n",
              " 288: 'types',\n",
              " 290: 'other',\n",
              " 291: 'rental',\n",
              " 292: 'tenth',\n",
              " 754: '1020',\n",
              " 293: 'also',\n",
              " 294: 'today',\n",
              " 332: 'stopovers',\n",
              " 295: 'dl',\n",
              " 296: 'either',\n",
              " 297: 'bwi',\n",
              " 299: 'listing',\n",
              " 439: 'michigan',\n",
              " 657: 'equal',\n",
              " 300: 'should',\n",
              " 412: 'quebec',\n",
              " 568: 'too',\n",
              " 303: 'stand',\n",
              " 241: 'kind',\n",
              " 304: 'thirtieth',\n",
              " 256: 'dinner',\n",
              " 305: 'week',\n",
              " 336: 'colorado',\n",
              " 361: 'over',\n",
              " 311: 'express',\n",
              " 576: '934',\n",
              " 315: 'midwest',\n",
              " 18: 'i',\n",
              " 318: 'but',\n",
              " 513: '343',\n",
              " 447: 'choices',\n",
              " 319: 'display',\n",
              " 321: 'traveling',\n",
              " 322: 'ap',\n",
              " 683: \"n't\",\n",
              " 155: 'cost',\n",
              " 324: 'layover',\n",
              " 523: 'great',\n",
              " 456: 'so',\n",
              " 325: 'north',\n",
              " 512: '1500',\n",
              " 327: 'restriction',\n",
              " 483: 'noontime',\n",
              " 687: 'ord',\n",
              " 328: 'twelfth',\n",
              " 792: 'usa',\n",
              " 757: '1205',\n",
              " 360: 'live',\n",
              " 53: 'need',\n",
              " 95: 'toronto',\n",
              " 330: 'jfk',\n",
              " 14: 'in',\n",
              " 337: 'departure',\n",
              " 341: 'rent',\n",
              " 355: \"'re\",\n",
              " 334: 'arrangements',\n",
              " 344: 'far',\n",
              " 346: '1',\n",
              " 347: 'shortest',\n",
              " 784: 'local',\n",
              " 348: 'both',\n",
              " 395: 'canada',\n",
              " 115: 'continental',\n",
              " 351: 'f',\n",
              " 570: 'west',\n",
              " 354: 'again',\n",
              " 232: 'seating',\n",
              " 401: '1115',\n",
              " 357: 'hours',\n",
              " 358: 'under',\n",
              " 139: 'tell',\n",
              " 362: 'where',\n",
              " 669: 'india',\n",
              " 364: 'january',\n",
              " 365: 'transport',\n",
              " 211: '9',\n",
              " 367: 'q',\n",
              " 368: 'thrift',\n",
              " 369: 'trips',\n",
              " 464: 'qw',\n",
              " 370: 'eleventh',\n",
              " 567: 'ff',\n",
              " 402: '747',\n",
              " 371: 'midnight',\n",
              " 372: 'nineteenth',\n",
              " 426: 'help',\n",
              " 28: 'that',\n",
              " 373: 'when',\n",
              " 668: 'including',\n",
              " 471: 'pennsylvania',\n",
              " 65: 'at',\n",
              " 377: 'tower',\n",
              " 380: 'anywhere',\n",
              " 634: 'across',\n",
              " 633: 'able',\n",
              " 470: 'destination',\n",
              " 381: 'dfw',\n",
              " 700: 'scenario',\n",
              " 692: 'qualify',\n",
              " 479: 'departures',\n",
              " 383: 'february',\n",
              " 607: '1220',\n",
              " 384: 'hi',\n",
              " 385: 'lufthansa',\n",
              " 353: 'some',\n",
              " 359: 'y',\n",
              " 387: 'yes',\n",
              " 710: 'straight',\n",
              " 388: 'area',\n",
              " 753: 'zone',\n",
              " 392: \"'ll\",\n",
              " 393: 'minnesota',\n",
              " 394: '466',\n",
              " 528: 'not',\n",
              " 396: 'codes',\n",
              " 112: 'seattle',\n",
              " 84: 'thursday',\n",
              " 398: 'indiana',\n",
              " 399: 'm80',\n",
              " 400: 'ohio',\n",
              " 386: 'planes',\n",
              " 406: 'landings',\n",
              " 407: 'let',\n",
              " 103: 'sunday',\n",
              " 408: 'lunch',\n",
              " 313: 'wednesdays',\n",
              " 78: 'earliest',\n",
              " 306: 'classes',\n",
              " 411: 'provided',\n",
              " 413: 'sometime',\n",
              " 414: 'these',\n",
              " 166: 'tacoma',\n",
              " 376: 'taxi',\n",
              " 420: 'logan',\n",
              " 423: 'total',\n",
              " 583: 'very',\n",
              " 427: 'sixteen',\n",
              " 430: 'fourteenth',\n",
              " 432: 'near',\n",
              " 219: 'meal',\n",
              " 83: 'nonstop',\n",
              " 433: 'saturdays',\n",
              " 435: 'boeing',\n",
              " 436: 'ea',\n",
              " 544: 'later',\n",
              " 167: 'ticket',\n",
              " 437: 'eighteenth',\n",
              " 221: 'schedule',\n",
              " 440: 'name',\n",
              " 441: 'passengers',\n",
              " 91: 'give',\n",
              " 500: 'well',\n",
              " 149: 'louis',\n",
              " 374: '11',\n",
              " 443: '270',\n",
              " 647: 'closest',\n",
              " 80: 'information',\n",
              " 445: 'amount',\n",
              " 501: '430',\n",
              " 446: 'arrival',\n",
              " 449: 'fit',\n",
              " 689: 'prefer',\n",
              " 453: 'originating',\n",
              " 460: '757',\n",
              " 158: 'nashville',\n",
              " 461: 'dc10',\n",
              " 462: 'hp',\n",
              " 57: 'class',\n",
              " 308: 'tickets',\n",
              " 466: 'requesting',\n",
              " 467: 'services',\n",
              " 473: 'seats',\n",
              " 474: '1700',\n",
              " 476: '296',\n",
              " 145: 'departing',\n",
              " 477: '630',\n",
              " 721: 'wants',\n",
              " 645: 'catch',\n",
              " 480: 'following',\n",
              " 482: 'nationair',\n",
              " 486: 'texas',\n",
              " 340: 'thirty',\n",
              " 487: 'trying',\n",
              " 12: 'boston',\n",
              " 488: 'uses',\n",
              " 490: '718',\n",
              " 491: '72s',\n",
              " 492: 'h',\n",
              " 502: '555',\n",
              " 495: '2100',\n",
              " 496: '530',\n",
              " 196: 'northwest',\n",
              " 320: 'makes',\n",
              " 498: 'southwest',\n",
              " 499: 'we',\n",
              " 505: 'fn',\n",
              " 507: 'turboprop',\n",
              " 508: 'weekdays',\n",
              " 509: '1039',\n",
              " 776: 'bh',\n",
              " 612: '212',\n",
              " 514: '727',\n",
              " 506: 'georgia',\n",
              " 515: '813',\n",
              " 618: '3357',\n",
              " 429: 'coming',\n",
              " 56: 'ground',\n",
              " 517: 'co',\n",
              " 518: 'connection',\n",
              " 223: 'day',\n",
              " 72: 'york',\n",
              " 529: 'rate',\n",
              " 520: 'difference',\n",
              " 242: 'second',\n",
              " 525: 'lastest',\n",
              " 382: 'explain',\n",
              " 526: 'missouri',\n",
              " 527: 'nonstops',\n",
              " 565: 'describe',\n",
              " 530: 'reservations',\n",
              " 532: 'serviced',\n",
              " 663: 'got',\n",
              " 534: 'still',\n",
              " 463: 'options',\n",
              " 537: '269',\n",
              " 538: '505',\n",
              " 539: 'along'}"
            ]
          },
          "metadata": {},
          "execution_count": 25
        }
      ]
    },
    {
      "cell_type": "code",
      "source": [
        "train_loader = DataLoader(train_dataset, batch_size=16, shuffle=True)\n",
        "val_loader = DataLoader(val_dataset, batch_size=16, shuffle=False)\n",
        "test_loader = DataLoader(test_dataset, batch_size=16, shuffle=False)"
      ],
      "metadata": {
        "id": "xef7EW0ndNj7"
      },
      "execution_count": 26,
      "outputs": []
    },
    {
      "cell_type": "code",
      "source": [
        "device = torch.device('cuda' if torch.cuda.is_available() else 'cpu')"
      ],
      "metadata": {
        "id": "ZZRWDexSH0qb"
      },
      "execution_count": 29,
      "outputs": []
    },
    {
      "cell_type": "code",
      "source": [
        "# p = 2\n",
        "# s = 2\n",
        "input_size = (p + 1 + s) * 300 # 300 is the embedding dim\n",
        "hidden_size = 128\n",
        "num_classes = len(tag_map)\n",
        "\n",
        "class NeuralNet(nn.Module):\n",
        "    def __init__(self, input_size, hidden_size, num_classes, dropout_rate=0.5):\n",
        "        super(NeuralNet, self).__init__()\n",
        "        self.fc1 = nn.Linear(input_size, 512)\n",
        "        self.relu = nn.ReLU()\n",
        "        self.fc2 = nn.Linear(512, 1024)\n",
        "        self.fc3 = nn.Linear(1024, 512)\n",
        "        # self.fc4 = nn.Linear(256, num_classes)\n",
        "        self.fc4 = nn.Linear(512, 256)\n",
        "        self.fc = nn.Linear(512, 256)\n",
        "        self.fc6 = nn.Linear(256, 128)\n",
        "        self.fc5 = nn.Linear(256, num_classes)\n",
        "        self.dropout = nn.Dropout(dropout_rate)\n",
        "        self.double()\n",
        "\n",
        "    def forward(self, x):\n",
        "        x = x.to(torch.double)\n",
        "        out = self.fc1(x)\n",
        "        out = self.relu(out)\n",
        "        # out = self.dropout(out)\n",
        "        out = self.fc2(out)\n",
        "        out = self.relu(out)\n",
        "        out = self.fc3(out)\n",
        "        out = self.relu(out)\n",
        "        out = self.fc4(out)\n",
        "        out = self.relu(out)\n",
        "        out = self.fc5(out)\n",
        "        # out = self.relu(out)\n",
        "        # out = self.fc6(out)\n",
        "        # out = self.relu(out)\n",
        "        # out = self.fc7(out)\n",
        "        # out = self.relu(out)\n",
        "\n",
        "\n",
        "        return out\n",
        "\n",
        "model = NeuralNet(input_size, hidden_size, num_classes).to(device)"
      ],
      "metadata": {
        "id": "K9Cl8eS5H7Hx"
      },
      "execution_count": 58,
      "outputs": []
    },
    {
      "cell_type": "code",
      "source": [
        "input_size, num_classes"
      ],
      "metadata": {
        "colab": {
          "base_uri": "https://localhost:8080/"
        },
        "id": "irh71gZnc7sq",
        "outputId": "fbc471a7-5a6b-4d57-abce-7697c507f866"
      },
      "execution_count": 59,
      "outputs": [
        {
          "output_type": "execute_result",
          "data": {
            "text/plain": [
              "(2100, 13)"
            ]
          },
          "metadata": {},
          "execution_count": 59
        }
      ]
    },
    {
      "cell_type": "code",
      "source": [
        "loss_fn = torch.nn.CrossEntropyLoss() # use ignore index to ignore losses for padding value indices\n",
        "optimizer = torch.optim.Adam(model.parameters(), lr=1e-3)"
      ],
      "metadata": {
        "id": "O4J3mJTmGcPc"
      },
      "execution_count": 60,
      "outputs": []
    },
    {
      "cell_type": "code",
      "source": [
        "from tqdm import tqdm\n",
        "import torch.nn.functional as F\n",
        "\n",
        "import copy"
      ],
      "metadata": {
        "id": "h-oAqmcfe7Bb"
      },
      "execution_count": 61,
      "outputs": []
    },
    {
      "cell_type": "code",
      "source": [
        "# Train the model\n",
        "num_epochs = 10\n",
        "total_step = len(train_loader)\n",
        "count = 0\n",
        "true_val_labels = []\n",
        "predicted_val_labels = []\n",
        "\n",
        "losses = []\n",
        "accs = []\n",
        "\n",
        "for epoch in tqdm(range(num_epochs), desc=\"Epochs\"):\n",
        "    total_correct = 0\n",
        "    total_samples = 0\n",
        "    val_accs = []\n",
        "    val_losses = []\n",
        "    train_accs = []\n",
        "    train_losses = []\n",
        "    for i, (sent, label) in enumerate(train_loader):\n",
        "        # print(\"sent: \", sent)\n",
        "        num_arr = sent.numpy()\n",
        "        # print(\"sent after converting: \", sent[0].numpy())\n",
        "        # print(\"label: \", label)\n",
        "        # print(\"--\"*20)\n",
        "        # Move tensors to the configured device\n",
        "        # images = images.reshape(-1, 28*28).to(device)\n",
        "\n",
        "        input_embed = []\n",
        "        for arr in num_arr:\n",
        "          embeds = []\n",
        "          # print(\"array: \", arr)\n",
        "          for num in arr:\n",
        "            word = num_to_word[num]\n",
        "            # print('word: ', word)\n",
        "            # if word not in glove_vectors.key_to_index:\n",
        "              # print(f\"{word} not in glove\")\n",
        "            embed = glove_vectors[word] if word in glove_vectors.key_to_index else np.random.uniform(-1.0,1.0,size = (300,))\n",
        "            # if word == '<s>':\n",
        "            #   embed = [-1.0]*300\n",
        "            # elif word == '</s>':\n",
        "            #   embed = [1.0]*300\n",
        "\n",
        "            arr = embed.copy()\n",
        "\n",
        "            # embed /= np.linalg.norm(arr)\n",
        "            embeds.append(embed)\n",
        "          embeddings = np.array([item for sublist in embeds for item in sublist])\n",
        "          # print(\"sub size: \",embeddings.shape)\n",
        "          input_embed.append(embeddings)\n",
        "\n",
        "        input_embed = np.array(input_embed, dtype = np.double)\n",
        "        input_embed = torch.tensor(input_embed, dtype=torch.double)\n",
        "        # print(\"input dtype: \", input_embed.dtype)\n",
        "        # input_embed = input_embed.to(torch.double)\n",
        "        # print(\"input embeddings size: \", input_embed.shape)\n",
        "        # input_embed = input_embed.to(device)\n",
        "        input_embed = input_embed.to(device, dtype=torch.double)\n",
        "        label = label.to(device)\n",
        "\n",
        "        # # Forward pass\n",
        "\n",
        "        outputs = model(input_embed)\n",
        "        # print(\"outputs size: \", outputs.shape)\n",
        "\n",
        "        # outputs = torch.argmax(outputs)\n",
        "        # print(\"outputs: \", outputs)\n",
        "        # print(\"label: \", label)\n",
        "        # break\n",
        "        # outputs = nn.Softmax(outputs, dim = 1)\n",
        "        # print(\"softmax output: \", outputs)\n",
        "        loss = loss_fn(outputs, label)\n",
        "\n",
        "        # # Backward and optimize\n",
        "        optimizer.zero_grad()\n",
        "        loss.backward()\n",
        "        optimizer.step()\n",
        "\n",
        "        # if (i+1) % 100 == 0:\n",
        "        #     print ('Epoch [{}/{}], Step [{}/{}], Loss: {:.4f}'\n",
        "        #            .format(epoch+1, num_epochs, i+1, total_step, loss.item()))\n",
        "        _, predicted = torch.max(outputs.data, 1)\n",
        "        total_samples += label.size(0)\n",
        "        total_correct += (predicted == label).sum().item()\n",
        "        train_losses.append(loss.item())\n",
        "        train_accs.append((total_correct / total_samples) * 100)\n",
        "        # if (i+1) % 100 == 0:\n",
        "        #     print('Epoch [{}/{}], Step [{}/{}], Train Loss: {:.4f}, Train Accuracy: {:.2f}%'\n",
        "        #           .format(epoch+1, num_epochs, i+1, total_step, loss.item(), (total_correct / total_samples) * 100))\n",
        "\n",
        "    # if (i+1) % 100 == 0:\n",
        "    #   print('Epoch [{}/{}], Loss: {:.4f}, Accuracy: {:.2f}%'\n",
        "    #               .format(epoch+1, num_epochs, loss.item(), (total_correct / total_samples) * 100))\n",
        "\n",
        "    #---------VAL-----------\n",
        "    model.eval()\n",
        "    total_val_correct = 0\n",
        "    total_val_samples = 0\n",
        "\n",
        "    for i, (val_sent, val_label) in enumerate(val_loader):\n",
        "      num_arr = val_sent.numpy()\n",
        "      input_embed = []\n",
        "      for arr in num_arr:\n",
        "        embeds = []\n",
        "        # print(\"array: \", arr)\n",
        "        for num in arr:\n",
        "          word = num_to_word[num]\n",
        "          # print('word: ', word)\n",
        "          # if word not in glove_vectors.key_to_index:\n",
        "              # print(f\"{word} not in glove\")\n",
        "          embed = glove_vectors[word] if word in glove_vectors.key_to_index else np.random.uniform(-1.0,1.0,size = (300,))\n",
        "          # if word == '<s>':\n",
        "          #   embed = [-1.0]*300\n",
        "          # elif word == '</s>':\n",
        "          #   embed = [1.0]*300\n",
        "\n",
        "          arr = embed.copy()\n",
        "\n",
        "          # embed /= np.linalg.norm(arr)\n",
        "          embeds.append(embed)\n",
        "        embeddings = np.array([item for sublist in embeds for item in sublist])\n",
        "        # print(\"sub size: \",embeddings.shape)\n",
        "        input_embed.append(embeddings)\n",
        "\n",
        "      input_embed = np.array(input_embed, dtype = np.double)\n",
        "      input_embed = torch.tensor(input_embed, dtype=torch.double)\n",
        "      input_embed = input_embed.to(device, dtype=torch.double)\n",
        "      val_label = val_label.to(device)\n",
        "\n",
        "      outputs = model(input_embed)\n",
        "      val_loss = loss_fn(outputs, val_label)\n",
        "      _, predicted = torch.max(outputs.data, 1)\n",
        "      total_val_samples += val_label.size(0)\n",
        "      total_val_correct += (predicted == val_label).sum().item()\n",
        "\n",
        "      true_val_labels.extend(val_label.cpu().numpy())\n",
        "      predicted_val_labels.extend(predicted.cpu().numpy())\n",
        "\n",
        "      val_accs.append((total_val_correct / total_val_samples) * 100)\n",
        "      val_losses.append(loss.item())\n",
        "\n",
        "      # if (i+1) % 100 == 0:\n",
        "      #       print('Epoch [{}/{}], Step [{}/{}], Val Loss: {:.4f}, Val Accuracy: {:.2f}%'\n",
        "      #             .format(epoch+1, num_epochs, i+1, total_step, loss.item(), (total_val_correct / total_val_samples) * 100))\n",
        "\n",
        "    avg_train_accs = np.array(train_accs).mean()\n",
        "    avg_val_accs = np.array(val_accs).mean()\n",
        "    avg_train_loss = np.array(train_losses).mean()\n",
        "    avg_val_loss = np.array(val_losses).mean()\n",
        "\n",
        "    losses.append(avg_val_loss)\n",
        "    accs.append(avg_val_accs)\n",
        "\n",
        "    # if (i+1) % 100 == 0:\n",
        "    print('Epoch [{}/{}], Train Loss: {:.4f}, Train Accuracy: {:.2f}%, Val Loss: {:.4f}, Val Accuracy: {:.2f}%'\n",
        "                  .format(epoch+1, num_epochs, avg_train_loss, avg_train_accs, avg_val_loss, avg_val_accs))"
      ],
      "metadata": {
        "colab": {
          "base_uri": "https://localhost:8080/"
        },
        "id": "bFZAY6nfGfXS",
        "outputId": "c9c78f47-1468-49b5-84e8-1b1bb1f3c009"
      },
      "execution_count": 62,
      "outputs": [
        {
          "output_type": "stream",
          "name": "stderr",
          "text": [
            "Epochs:  10%|█         | 1/10 [03:02<27:20, 182.32s/it]"
          ]
        },
        {
          "output_type": "stream",
          "name": "stdout",
          "text": [
            "Epoch [1/10], Train Loss: 0.2554, Train Accuracy: 86.52%, Val Loss: 0.0014, Val Accuracy: 94.99%\n"
          ]
        },
        {
          "output_type": "stream",
          "name": "stderr",
          "text": [
            "\rEpochs:  20%|██        | 2/10 [06:02<24:07, 180.97s/it]"
          ]
        },
        {
          "output_type": "stream",
          "name": "stdout",
          "text": [
            "Epoch [2/10], Train Loss: 0.1154, Train Accuracy: 96.93%, Val Loss: 0.0488, Val Accuracy: 96.14%\n"
          ]
        },
        {
          "output_type": "stream",
          "name": "stderr",
          "text": [
            "\rEpochs:  30%|███       | 3/10 [09:14<21:43, 186.28s/it]"
          ]
        },
        {
          "output_type": "stream",
          "name": "stdout",
          "text": [
            "Epoch [3/10], Train Loss: 0.0955, Train Accuracy: 97.49%, Val Loss: 0.0040, Val Accuracy: 95.98%\n"
          ]
        },
        {
          "output_type": "stream",
          "name": "stderr",
          "text": [
            "\rEpochs:  40%|████      | 4/10 [12:37<19:16, 192.74s/it]"
          ]
        },
        {
          "output_type": "stream",
          "name": "stdout",
          "text": [
            "Epoch [4/10], Train Loss: 0.0845, Train Accuracy: 97.83%, Val Loss: 0.0019, Val Accuracy: 95.70%\n"
          ]
        },
        {
          "output_type": "stream",
          "name": "stderr",
          "text": [
            "\rEpochs:  50%|█████     | 5/10 [16:08<16:36, 199.40s/it]"
          ]
        },
        {
          "output_type": "stream",
          "name": "stdout",
          "text": [
            "Epoch [5/10], Train Loss: 0.0731, Train Accuracy: 97.99%, Val Loss: 0.0078, Val Accuracy: 96.20%\n"
          ]
        },
        {
          "output_type": "stream",
          "name": "stderr",
          "text": [
            "\rEpochs:  60%|██████    | 6/10 [19:46<13:42, 205.64s/it]"
          ]
        },
        {
          "output_type": "stream",
          "name": "stdout",
          "text": [
            "Epoch [6/10], Train Loss: 0.0686, Train Accuracy: 98.26%, Val Loss: 0.1018, Val Accuracy: 96.53%\n"
          ]
        },
        {
          "output_type": "stream",
          "name": "stderr",
          "text": [
            "\rEpochs:  70%|███████   | 7/10 [23:26<10:30, 210.31s/it]"
          ]
        },
        {
          "output_type": "stream",
          "name": "stdout",
          "text": [
            "Epoch [7/10], Train Loss: 0.0645, Train Accuracy: 98.25%, Val Loss: 0.0000, Val Accuracy: 96.04%\n"
          ]
        },
        {
          "output_type": "stream",
          "name": "stderr",
          "text": [
            "\rEpochs:  80%|████████  | 8/10 [27:08<07:07, 213.99s/it]"
          ]
        },
        {
          "output_type": "stream",
          "name": "stdout",
          "text": [
            "Epoch [8/10], Train Loss: 0.0652, Train Accuracy: 98.45%, Val Loss: 0.0017, Val Accuracy: 96.61%\n"
          ]
        },
        {
          "output_type": "stream",
          "name": "stderr",
          "text": [
            "\rEpochs:  90%|█████████ | 9/10 [30:55<03:38, 218.21s/it]"
          ]
        },
        {
          "output_type": "stream",
          "name": "stdout",
          "text": [
            "Epoch [9/10], Train Loss: 0.0571, Train Accuracy: 98.43%, Val Loss: 0.0352, Val Accuracy: 96.66%\n"
          ]
        },
        {
          "output_type": "stream",
          "name": "stderr",
          "text": [
            "Epochs: 100%|██████████| 10/10 [34:44<00:00, 208.49s/it]"
          ]
        },
        {
          "output_type": "stream",
          "name": "stdout",
          "text": [
            "Epoch [10/10], Train Loss: 0.0576, Train Accuracy: 98.57%, Val Loss: 0.0008, Val Accuracy: 96.74%\n"
          ]
        },
        {
          "output_type": "stream",
          "name": "stderr",
          "text": [
            "\n"
          ]
        }
      ]
    },
    {
      "cell_type": "code",
      "source": [
        "new_loss = []\n",
        "for l in losses:\n",
        "  new_loss.append(l.item())"
      ],
      "metadata": {
        "id": "UQd3rFMn8_z_"
      },
      "execution_count": 63,
      "outputs": []
    },
    {
      "cell_type": "code",
      "source": [
        "plt.plot(range(len(new_loss)), new_loss)\n",
        "plt.xlabel(\"Epochs\")\n",
        "plt.ylabel(\"Validation Loss\")\n",
        "plt.title(\"FFNN model loss vs Epoch\")\n",
        "plt.show()"
      ],
      "metadata": {
        "colab": {
          "base_uri": "https://localhost:8080/",
          "height": 477
        },
        "id": "pdFPRIS_9B2Y",
        "outputId": "d9f27c1c-7fa8-4bdc-c071-392725b23931"
      },
      "execution_count": 64,
      "outputs": [
        {
          "output_type": "display_data",
          "data": {
            "text/plain": [
              "<Figure size 640x480 with 1 Axes>"
            ],
            "image/png": "[encoded data removed]"
          },
          "metadata": {}
        }
      ]
    },
    {
      "cell_type": "code",
      "source": [
        "# accs = [value * 100 for value in accs]\n",
        "# accs = [value/100 for value in accs]\n",
        "plt.plot(range(len(accs)), accs)\n",
        "plt.xlabel(\"Epochs\")\n",
        "plt.ylabel(\"Validation Accuracy\")\n",
        "plt.title(\"FFNN model accuracy vs Epoch\")\n",
        "plt.show()"
      ],
      "metadata": {
        "colab": {
          "base_uri": "https://localhost:8080/",
          "height": 477
        },
        "id": "hcKIRzR59FEx",
        "outputId": "3398b74a-a5c2-4602-f4ac-7a489efa5303"
      },
      "execution_count": 65,
      "outputs": [
        {
          "output_type": "display_data",
          "data": {
            "text/plain": [
              "<Figure size 640x480 with 1 Axes>"
            ],
            "image/png": "[encoded data removed]"
          },
          "metadata": {}
        }
      ]
    },
    {
      "cell_type": "code",
      "source": [
        "accuracy_score(true_val_labels, predicted_val_labels)*100"
      ],
      "metadata": {
        "colab": {
          "base_uri": "https://localhost:8080/"
        },
        "id": "72KL8HDL-ip7",
        "outputId": "4193e8ce-a28a-48f6-a31a-3f2af701819f"
      },
      "execution_count": 66,
      "outputs": [
        {
          "output_type": "execute_result",
          "data": {
            "text/plain": [
              "97.04004817825957"
            ]
          },
          "metadata": {},
          "execution_count": 66
        }
      ]
    },
    {
      "cell_type": "code",
      "source": [
        "print(classification_report(true_val_labels, predicted_val_labels))"
      ],
      "metadata": {
        "colab": {
          "base_uri": "https://localhost:8080/"
        },
        "id": "GuLfcmWH-lBZ",
        "outputId": "a85f6201-e976-4c4e-c5a5-b22c62037e74"
      },
      "execution_count": 67,
      "outputs": [
        {
          "output_type": "stream",
          "name": "stdout",
          "text": [
            "              precision    recall  f1-score   support\n",
            "\n",
            "           0       0.95      0.98      0.96      6530\n",
            "           1       0.96      0.85      0.90      2270\n",
            "           2       0.99      0.95      0.97      5680\n",
            "           3       0.98      0.99      0.98     14150\n",
            "           4       0.98      0.99      0.98      4140\n",
            "           5       0.99      0.99      0.99      1070\n",
            "           6       0.93      0.92      0.93      1310\n",
            "           7       0.94      0.98      0.96       350\n",
            "           8       0.77      0.71      0.74       590\n",
            "           9       0.98      0.95      0.97      2660\n",
            "          10       0.98      0.99      0.98     15510\n",
            "          11       0.96      0.98      0.97     11430\n",
            "          12       0.91      0.86      0.89       730\n",
            "\n",
            "    accuracy                           0.97     66420\n",
            "   macro avg       0.95      0.93      0.94     66420\n",
            "weighted avg       0.97      0.97      0.97     66420\n",
            "\n"
          ]
        }
      ]
    },
    {
      "cell_type": "code",
      "source": [
        "conf_matrix = confusion_matrix(true_val_labels, predicted_val_labels)\n",
        "class_labels = list(tag_map.keys())\n",
        "plt.figure(figsize=(8, 6))\n",
        "sns.heatmap(conf_matrix, annot=True, fmt=\"d\", cmap=\"Blues\", xticklabels=class_labels, yticklabels=class_labels)\n",
        "plt.xlabel('Predicted')\n",
        "plt.ylabel('True')\n",
        "plt.title('Validation Confusion Matrix')\n",
        "plt.show()"
      ],
      "metadata": {
        "colab": {
          "base_uri": "https://localhost:8080/",
          "height": 603
        },
        "id": "C5sDW8bi-lkA",
        "outputId": "e7fa7726-0367-458f-ebee-d384c8db4a1a"
      },
      "execution_count": 68,
      "outputs": [
        {
          "output_type": "display_data",
          "data": {
            "text/plain": [
              "<Figure size 800x600 with 2 Axes>"
            ],
            "image/png": "[encoded data removed]"
          },
          "metadata": {}
        }
      ]
    },
    {
      "cell_type": "code",
      "source": [
        "#--------------TEST-------------\n",
        "true_labels = []\n",
        "predicted_labels = []\n",
        "\n",
        "model.eval()\n",
        "total_val_correct = 0\n",
        "total_val_samples = 0\n",
        "\n",
        "with torch.no_grad():\n",
        "  for i, (test_sent, test_label) in enumerate(test_loader):\n",
        "        num_arr = test_sent.numpy()\n",
        "        input_embed = []\n",
        "        for arr in num_arr:\n",
        "          embeds = []\n",
        "          # print(\"array: \", arr)\n",
        "          for num in arr:\n",
        "            word = num_to_word[num]\n",
        "            # print('word: ', word)\n",
        "            # if word not in glove_vectors.key_to_index:\n",
        "                # print(f\"{word} not in glove\")\n",
        "            embed = glove_vectors[word] if word in glove_vectors.key_to_index else np.random.uniform(-1.0,1.0,size = (300,))\n",
        "            # if word == '<s>':\n",
        "            #   embed = [-1.0]*300\n",
        "            # elif word == '</s>':\n",
        "            #   embed = [1.0]*300\n",
        "\n",
        "            arr = embed.copy()\n",
        "\n",
        "            # embed /= np.linalg.norm(arr)\n",
        "            embeds.append(embed)\n",
        "          embeddings = np.array([item for sublist in embeds for item in sublist])\n",
        "          # print(\"sub size: \",embeddings.shape)\n",
        "          input_embed.append(embeddings)\n",
        "\n",
        "        input_embed = np.array(input_embed, dtype = np.double)\n",
        "        input_embed = torch.tensor(input_embed, dtype=torch.double)\n",
        "        input_embed = input_embed.to(device, dtype=torch.double)\n",
        "        test_label = test_label.to(device)\n",
        "\n",
        "        outputs = model(input_embed)\n",
        "        test_loss = loss_fn(outputs, test_label)\n",
        "        _, predicted = torch.max(outputs.data, 1)\n",
        "        total_val_samples += test_label.size(0)\n",
        "        total_val_correct += (predicted == test_label).sum().item()\n",
        "        true_labels.extend(test_label.cpu().numpy())\n",
        "        predicted_labels.extend(predicted.cpu().numpy())"
      ],
      "metadata": {
        "id": "5jHGO_xb-teB"
      },
      "execution_count": 69,
      "outputs": []
    },
    {
      "cell_type": "code",
      "source": [
        "accuracy_score(true_labels, predicted_labels)*100"
      ],
      "metadata": {
        "colab": {
          "base_uri": "https://localhost:8080/"
        },
        "id": "Fw512FNLAc16",
        "outputId": "04ec21f9-1df3-406f-8f34-922aa6ff0a33"
      },
      "execution_count": 70,
      "outputs": [
        {
          "output_type": "execute_result",
          "data": {
            "text/plain": [
              "97.64437689969606"
            ]
          },
          "metadata": {},
          "execution_count": 70
        }
      ]
    },
    {
      "cell_type": "code",
      "source": [
        "print(classification_report(true_labels, predicted_labels))"
      ],
      "metadata": {
        "colab": {
          "base_uri": "https://localhost:8080/"
        },
        "id": "pmAiysfJ_96_",
        "outputId": "973fd965-821c-4909-fa7f-f18bf953944f"
      },
      "execution_count": 71,
      "outputs": [
        {
          "output_type": "stream",
          "name": "stdout",
          "text": [
            "              precision    recall  f1-score   support\n",
            "\n",
            "           0       0.99      0.94      0.97       629\n",
            "           1       0.90      0.95      0.93       220\n",
            "           2       0.99      0.99      0.99       512\n",
            "           3       0.99      0.99      0.99      1434\n",
            "           4       0.98      0.98      0.98       392\n",
            "           5       0.99      0.99      0.99       109\n",
            "           6       0.92      0.88      0.90       127\n",
            "           7       0.92      0.97      0.95        36\n",
            "           8       0.83      0.58      0.68        76\n",
            "           9       0.98      0.99      0.98       256\n",
            "          10       0.99      0.99      0.99      1567\n",
            "          11       0.96      0.99      0.97      1166\n",
            "          12       0.97      1.00      0.98        56\n",
            "\n",
            "    accuracy                           0.98      6580\n",
            "   macro avg       0.95      0.94      0.95      6580\n",
            "weighted avg       0.98      0.98      0.98      6580\n",
            "\n"
          ]
        }
      ]
    },
    {
      "cell_type": "code",
      "source": [
        "conf_matrix = confusion_matrix(true_labels, predicted_labels)\n",
        "class_labels = list(tag_map.keys())\n",
        "plt.figure(figsize=(8, 6))\n",
        "sns.heatmap(conf_matrix, annot=True, fmt=\"d\", cmap=\"Blues\", xticklabels=class_labels, yticklabels=class_labels)\n",
        "plt.xlabel('Predicted')\n",
        "plt.ylabel('True')\n",
        "plt.title('Test Confusion Matrix')\n",
        "plt.show()"
      ],
      "metadata": {
        "colab": {
          "base_uri": "https://localhost:8080/",
          "height": 603
        },
        "id": "wFVI_Ch1CN9y",
        "outputId": "fd008bad-a1a1-424b-d9a2-aacaf9ac187d"
      },
      "execution_count": 72,
      "outputs": [
        {
          "output_type": "display_data",
          "data": {
            "text/plain": [
              "<Figure size 800x600 with 2 Axes>"
            ],
            "image/png": "[encoded data removed]"
          },
          "metadata": {}
        }
      ]
    },
    {
      "cell_type": "code",
      "source": [
        "import os\n",
        "os.chdir(\"/content/drive/MyDrive/INLP/Assignment - 2\")\n",
        "os.getcwd()"
      ],
      "metadata": {
        "colab": {
          "base_uri": "https://localhost:8080/",
          "height": 36
        },
        "id": "7EW6kLb6Rg0W",
        "outputId": "038a6823-b5c7-4cdc-ff45-cd7fb1f243fc"
      },
      "execution_count": 73,
      "outputs": [
        {
          "output_type": "execute_result",
          "data": {
            "text/plain": [
              "'/content/drive/MyDrive/INLP/Assignment - 2'"
            ],
            "application/vnd.google.colaboratory.intrinsic+json": {
              "type": "string"
            }
          },
          "metadata": {},
          "execution_count": 73
        }
      ]
    },
    {
      "cell_type": "code",
      "source": [
        "torch.save(model, \"ffnn_model3_ps3.pt\")"
      ],
      "metadata": {
        "id": "Tlc1ZGoDRftI"
      },
      "execution_count": 74,
      "outputs": []
    },
    {
      "cell_type": "code",
      "source": [],
      "metadata": {
        "id": "85VKAraJ2Ifb"
      },
      "execution_count": null,
      "outputs": []
    }
  ]
}
